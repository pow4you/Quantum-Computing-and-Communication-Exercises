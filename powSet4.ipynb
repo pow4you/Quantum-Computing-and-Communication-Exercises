{
 "cells": [
  {
   "cell_type": "markdown",
   "metadata": {},
   "source": [
    "## P-set 4\n",
    "\n",
    "Answer the following questions (in written form)."
   ]
  },
  {
   "cell_type": "markdown",
   "metadata": {},
   "source": [
    "# **1) (10P)**\n",
    "\n",
    "**In the annealing process the energy state of the quantum chip ...**\n",
    "1. (❌) should remain in the minimum eigenstate (groundstate)\n",
    "2. should transform from a higher energy state (excited state) to the groundstate.\n",
    "3. should tranform from the groundstate to an excited state.\n",
    "\n",
    "**Make a cross (x) next to the correct answer above.**"
   ]
  },
  {
   "cell_type": "markdown",
   "metadata": {},
   "source": [
    "# **2) (30P)**\n",
    "\n",
    "**What is the minimum of the following binary quadratic model E?** \n",
    "$$ E(x_1,x_2) = \\begin{pmatrix}x_1 & x_2\\end{pmatrix} \\begin{pmatrix}1 & 2 \\\\ 0 & 1\\end{pmatrix} \\begin{pmatrix}x_1 \\\\ x_2\\end{pmatrix} $$"
   ]
  },
  {
   "cell_type": "markdown",
   "metadata": {},
   "source": [
    "On paper:"
   ]
  },
  {
   "attachments": {},
   "cell_type": "markdown",
   "metadata": {},
   "source": [
    "![calc](powSet2attache/photo_2023-11-16_23-46-21.jpg)"
   ]
  },
  {
   "cell_type": "markdown",
   "metadata": {},
   "source": [
    "# **3) (30P)**\n",
    "\n",
    "**You are given a binary quadratic problem to minimize $\\min \\vec{x}^TQ\\vec{x}$, where $Q$ has values $\\ge 0$. How can you change the values of the $Q$ matrix such that the minimum solution is NOT the trivial solution and why?**"
   ]
  },
  {
   "cell_type": "markdown",
   "metadata": {},
   "source": [
    "Introduce a negative value in $Q$.\n",
    "Das macht, dass eine oder mehrere der $\\vec{x}$ inputs auch negative Ergäbnisse ergeben.\n",
    "\n",
    "Das sieht dan zum Beispiel so aus:\n",
    "\n",
    "$ Q = \\begin{bmatrix} -a & b \\\\ c & -d \\end{bmatrix} $\n",
    "\n",
    "$ E(x_1,x_2) = -ax_1^2 + bx_1x_2 + cx_2x_1 - dx_2^2 $\n",
    "\n",
    "On the offchance, dass da gemeint ist das die werte in $Q$ auch nach dem modifizieren $\\ge 0$ sein müssen, dann geht das offensichtlich nicht, da wenn alle coeffizienten positiv immer die triviale lösung dasminimum enthält. Das gegenteil gilt natürlich auch: Wenn alle coeffizienten negativ sind ist das optimum imer bei der antitrivialen lösung."
   ]
  },
  {
   "cell_type": "markdown",
   "metadata": {},
   "source": [
    "# **4) (30P)**\n",
    "\n",
    "**Think about Exercise 3 again: Give an equality constraint for all the variables (drinks), which makes sure, that you will not drink more than three drinks containing alcohol.**"
   ]
  },
  {
   "cell_type": "markdown",
   "metadata": {},
   "source": [
    "## Recap:"
   ]
  },
  {
   "cell_type": "code",
   "execution_count": null,
   "metadata": {
    "tags": []
   },
   "outputs": [],
   "source": [
    "!pip install dwave-system dimod seaborn pandas\n",
    "# import necessary modules\n",
    "import matplotlib.pyplot as plt\n",
    "import seaborn as sns\n",
    "\n",
    "\n",
    "from dwave.samplers import SimulatedAnnealingSampler, SteepestDescentSolver # classical free optimizer (installed locally on your computer)\n",
    "from dwave.system import DWaveSampler, EmbeddingComposite # commercial quantum optimizer (in the cloud)\n",
    "\n",
    "from dimod import BQM # binary quadratic model object\n",
    "\n",
    "\n",
    "import numpy as np \n",
    "import pandas as pd\n",
    "\n"
   ]
  },
  {
   "cell_type": "code",
   "execution_count": 4,
   "metadata": {
    "tags": []
   },
   "outputs": [
    {
     "data": {
      "text/html": [
       "<div>\n",
       "<style scoped>\n",
       "    .dataframe tbody tr th:only-of-type {\n",
       "        vertical-align: middle;\n",
       "    }\n",
       "\n",
       "    .dataframe tbody tr th {\n",
       "        vertical-align: top;\n",
       "    }\n",
       "\n",
       "    .dataframe thead th {\n",
       "        text-align: right;\n",
       "    }\n",
       "</style>\n",
       "<table border=\"1\" class=\"dataframe\">\n",
       "  <thead>\n",
       "    <tr style=\"text-align: right;\">\n",
       "      <th></th>\n",
       "      <th>Drink</th>\n",
       "      <th>Euro</th>\n",
       "      <th>Score</th>\n",
       "    </tr>\n",
       "  </thead>\n",
       "  <tbody>\n",
       "    <tr>\n",
       "      <th>0</th>\n",
       "      <td>Long Island Ice Tea</td>\n",
       "      <td>5.4</td>\n",
       "      <td>70</td>\n",
       "    </tr>\n",
       "    <tr>\n",
       "      <th>1</th>\n",
       "      <td>Mochito</td>\n",
       "      <td>5.4</td>\n",
       "      <td>60</td>\n",
       "    </tr>\n",
       "    <tr>\n",
       "      <th>2</th>\n",
       "      <td>Erdbeer Daiquiri</td>\n",
       "      <td>5.4</td>\n",
       "      <td>50</td>\n",
       "    </tr>\n",
       "    <tr>\n",
       "      <th>3</th>\n",
       "      <td>Heineken</td>\n",
       "      <td>3.5</td>\n",
       "      <td>35</td>\n",
       "    </tr>\n",
       "    <tr>\n",
       "      <th>4</th>\n",
       "      <td>Corona</td>\n",
       "      <td>4.0</td>\n",
       "      <td>35</td>\n",
       "    </tr>\n",
       "    <tr>\n",
       "      <th>5</th>\n",
       "      <td>Eristoff Ice</td>\n",
       "      <td>4.0</td>\n",
       "      <td>20</td>\n",
       "    </tr>\n",
       "    <tr>\n",
       "      <th>6</th>\n",
       "      <td>Hugo Spritzer</td>\n",
       "      <td>3.5</td>\n",
       "      <td>25</td>\n",
       "    </tr>\n",
       "    <tr>\n",
       "      <th>7</th>\n",
       "      <td>Cola</td>\n",
       "      <td>3.0</td>\n",
       "      <td>-2</td>\n",
       "    </tr>\n",
       "    <tr>\n",
       "      <th>8</th>\n",
       "      <td>Mineralwasser</td>\n",
       "      <td>2.5</td>\n",
       "      <td>-5</td>\n",
       "    </tr>\n",
       "    <tr>\n",
       "      <th>9</th>\n",
       "      <td>Leitungswasser</td>\n",
       "      <td>0.0</td>\n",
       "      <td>-2</td>\n",
       "    </tr>\n",
       "  </tbody>\n",
       "</table>\n",
       "</div>"
      ],
      "text/plain": [
       "                 Drink  Euro  Score\n",
       "0  Long Island Ice Tea   5.4     70\n",
       "1              Mochito   5.4     60\n",
       "2     Erdbeer Daiquiri   5.4     50\n",
       "3             Heineken   3.5     35\n",
       "4               Corona   4.0     35\n",
       "5         Eristoff Ice   4.0     20\n",
       "6        Hugo Spritzer   3.5     25\n",
       "7                 Cola   3.0     -2\n",
       "8        Mineralwasser   2.5     -5\n",
       "9       Leitungswasser   0.0     -2"
      ]
     },
     "execution_count": 4,
     "metadata": {},
     "output_type": "execute_result"
    }
   ],
   "source": [
    "# the menu is provided here as pandas.DataFrame\n",
    "menu = pd.DataFrame({\n",
    "    'Drink': ['Long Island Ice Tea', 'Mochito', 'Erdbeer Daiquiri', 'Heineken', 'Corona', 'Eristoff Ice', 'Hugo Spritzer', 'Cola', 'Mineralwasser', 'Leitungswasser'],\n",
    "    'Euro': [5.4, 5.4, 5.4, 3.5, 4, 4, 3.5, 3, 2.5, 0],\n",
    "    'Score': [70, 60, 50, 35, 35, 20, 25, -2, -5, -2]\n",
    "})\n",
    "menu"
   ]
  },
  {
   "cell_type": "code",
   "execution_count": 9,
   "metadata": {
    "tags": []
   },
   "outputs": [],
   "source": [
    "# define a binary quadratic model with BQM(\"BINARY\") and use the menu to add the drinks as variables with the according price from the menu. (check the hint below)\n",
    "bqm = BQM(\"BINARY\")\n",
    "for drink,euro in zip(menu.Drink, menu.Euro):\n",
    "    bqm.add_variable(drink,euro)\n",
    "\n",
    "#HINT: use `bqm.add_variable(variable,cost)`"
   ]
  },
  {
   "cell_type": "code",
   "execution_count": 10,
   "metadata": {
    "tags": []
   },
   "outputs": [],
   "source": [
    "# add a linear the drinking score constraint using bqm.add_linear_equality_constraint() (hint below)\n",
    "bqm.add_linear_equality_constraint([(drink,score) for drink,score in zip(menu.Drink, menu.Score)],1,-100)"
   ]
  },
  {
   "cell_type": "code",
   "execution_count": 11,
   "metadata": {
    "tags": []
   },
   "outputs": [],
   "source": [
    "# set the optimization to the dwavve quantum computer (you will need a user account which provides an api token, come to me when you reached this section to get it!)\n",
    "#optimizer = EmbeddingComposite(DWaveSampler(token='TOKEN')) \n",
    "optimizer = SteepestDescentSolver()"
   ]
  },
  {
   "cell_type": "code",
   "execution_count": 12,
   "metadata": {
    "tags": []
   },
   "outputs": [
    {
     "data": {
      "text/plain": [
       "{'Cola': 0,\n",
       " 'Corona': 0,\n",
       " 'Erdbeer Daiquiri': 0,\n",
       " 'Eristoff Ice': 0,\n",
       " 'Heineken': 1,\n",
       " 'Hugo Spritzer': 0,\n",
       " 'Leitungswasser': 0,\n",
       " 'Long Island Ice Tea': 0,\n",
       " 'Mineralwasser': 0,\n",
       " 'Mochito': 1}"
      ]
     },
     "execution_count": 12,
     "metadata": {},
     "output_type": "execute_result"
    }
   ],
   "source": [
    "sampleset = optimizer.sample(bqm=bqm)\n",
    "solution = sampleset.first.sample\n",
    "solution "
   ]
  },
  {
   "cell_type": "code",
   "execution_count": 13,
   "metadata": {
    "tags": []
   },
   "outputs": [],
   "source": [
    "# get the drinks where the value in the dictionary is 1\n",
    "drinks_with_value_1 = [drink for drink, value in solution.items() if value == 1]\n",
    "\n",
    "# filter the DataFrame using isin\n",
    "result = menu[menu.Drink.isin(drinks_with_value_1)]"
   ]
  },
  {
   "cell_type": "code",
   "execution_count": 14,
   "metadata": {
    "tags": []
   },
   "outputs": [
    {
     "data": {
      "text/plain": [
       "1     Mochito\n",
       "3    Heineken\n",
       "Name: Drink, dtype: object"
      ]
     },
     "execution_count": 14,
     "metadata": {},
     "output_type": "execute_result"
    }
   ],
   "source": [
    "# display your dinks of choice\n",
    "result.Drink"
   ]
  },
  {
   "cell_type": "code",
   "execution_count": 15,
   "metadata": {
    "tags": []
   },
   "outputs": [
    {
     "data": {
      "text/plain": [
       "Euro     8.9\n",
       "Score     95\n",
       "dtype: object"
      ]
     },
     "execution_count": 15,
     "metadata": {},
     "output_type": "execute_result"
    }
   ],
   "source": [
    "# get your spending and score\n",
    "result.sum()[1:]"
   ]
  },
  {
   "cell_type": "markdown",
   "metadata": {},
   "source": [
    "## Antwort:"
   ]
  },
  {
   "cell_type": "markdown",
   "metadata": {},
   "source": [
    "Erstmal müssen wir alle alkoholischen🍷🍷 drinks Markieren. Ich mach das im dataframe:\n",
    "\n",
    "(Long Island Ice Tea, Mojito, Erdbeer Daiquiri, Heineken, Corona, Eristoff Ice, Hugo Spritzer)"
   ]
  },
  {
   "cell_type": "code",
   "execution_count": 18,
   "metadata": {
    "tags": []
   },
   "outputs": [
    {
     "data": {
      "text/html": [
       "<div>\n",
       "<style scoped>\n",
       "    .dataframe tbody tr th:only-of-type {\n",
       "        vertical-align: middle;\n",
       "    }\n",
       "\n",
       "    .dataframe tbody tr th {\n",
       "        vertical-align: top;\n",
       "    }\n",
       "\n",
       "    .dataframe thead th {\n",
       "        text-align: right;\n",
       "    }\n",
       "</style>\n",
       "<table border=\"1\" class=\"dataframe\">\n",
       "  <thead>\n",
       "    <tr style=\"text-align: right;\">\n",
       "      <th></th>\n",
       "      <th>Drink</th>\n",
       "      <th>Euro</th>\n",
       "      <th>Score</th>\n",
       "      <th>Alk</th>\n",
       "    </tr>\n",
       "  </thead>\n",
       "  <tbody>\n",
       "    <tr>\n",
       "      <th>0</th>\n",
       "      <td>Long Island Ice Tea</td>\n",
       "      <td>5.4</td>\n",
       "      <td>70</td>\n",
       "      <td>True</td>\n",
       "    </tr>\n",
       "    <tr>\n",
       "      <th>1</th>\n",
       "      <td>Mochito</td>\n",
       "      <td>5.4</td>\n",
       "      <td>60</td>\n",
       "      <td>True</td>\n",
       "    </tr>\n",
       "    <tr>\n",
       "      <th>2</th>\n",
       "      <td>Erdbeer Daiquiri</td>\n",
       "      <td>5.4</td>\n",
       "      <td>50</td>\n",
       "      <td>True</td>\n",
       "    </tr>\n",
       "    <tr>\n",
       "      <th>3</th>\n",
       "      <td>Heineken</td>\n",
       "      <td>3.5</td>\n",
       "      <td>35</td>\n",
       "      <td>True</td>\n",
       "    </tr>\n",
       "    <tr>\n",
       "      <th>4</th>\n",
       "      <td>Corona</td>\n",
       "      <td>4.0</td>\n",
       "      <td>35</td>\n",
       "      <td>True</td>\n",
       "    </tr>\n",
       "    <tr>\n",
       "      <th>5</th>\n",
       "      <td>Eristoff Ice</td>\n",
       "      <td>4.0</td>\n",
       "      <td>20</td>\n",
       "      <td>True</td>\n",
       "    </tr>\n",
       "    <tr>\n",
       "      <th>6</th>\n",
       "      <td>Hugo Spritzer</td>\n",
       "      <td>3.5</td>\n",
       "      <td>25</td>\n",
       "      <td>True</td>\n",
       "    </tr>\n",
       "    <tr>\n",
       "      <th>7</th>\n",
       "      <td>Cola</td>\n",
       "      <td>3.0</td>\n",
       "      <td>-2</td>\n",
       "      <td>False</td>\n",
       "    </tr>\n",
       "    <tr>\n",
       "      <th>8</th>\n",
       "      <td>Mineralwasser</td>\n",
       "      <td>2.5</td>\n",
       "      <td>-5</td>\n",
       "      <td>False</td>\n",
       "    </tr>\n",
       "    <tr>\n",
       "      <th>9</th>\n",
       "      <td>Leitungswasser</td>\n",
       "      <td>0.0</td>\n",
       "      <td>-2</td>\n",
       "      <td>False</td>\n",
       "    </tr>\n",
       "  </tbody>\n",
       "</table>\n",
       "</div>"
      ],
      "text/plain": [
       "                 Drink  Euro  Score    Alk\n",
       "0  Long Island Ice Tea   5.4     70   True\n",
       "1              Mochito   5.4     60   True\n",
       "2     Erdbeer Daiquiri   5.4     50   True\n",
       "3             Heineken   3.5     35   True\n",
       "4               Corona   4.0     35   True\n",
       "5         Eristoff Ice   4.0     20   True\n",
       "6        Hugo Spritzer   3.5     25   True\n",
       "7                 Cola   3.0     -2  False\n",
       "8        Mineralwasser   2.5     -5  False\n",
       "9       Leitungswasser   0.0     -2  False"
      ]
     },
     "execution_count": 18,
     "metadata": {},
     "output_type": "execute_result"
    }
   ],
   "source": [
    "menu = pd.DataFrame({\n",
    "    'Drink': ['Long Island Ice Tea', 'Mochito', 'Erdbeer Daiquiri', 'Heineken', 'Corona', 'Eristoff Ice', 'Hugo Spritzer', 'Cola', 'Mineralwasser', 'Leitungswasser'],\n",
    "    'Euro': [5.4, 5.4, 5.4, 3.5, 4, 4, 3.5, 3, 2.5, 0],\n",
    "    'Score': [70, 60, 50, 35, 35, 20, 25, -2, -5, -2],\n",
    "    'Alk': [True, True, True, True, True, True, True, False, False, False]\n",
    "})\n",
    "menu"
   ]
  },
  {
   "cell_type": "markdown",
   "metadata": {},
   "source": [
    "Dann mach ich all das bis zu den constraints, weil da änder ich nichts:"
   ]
  },
  {
   "cell_type": "code",
   "execution_count": 20,
   "metadata": {
    "tags": []
   },
   "outputs": [],
   "source": [
    "bqm = BQM(\"BINARY\")\n",
    "for drink,euro in zip(menu.Drink, menu.Euro):\n",
    "    bqm.add_variable(drink,euro)\n",
    "    \n",
    "bqm.add_linear_equality_constraint([(drink,score) for drink,score in zip(menu.Drink, menu.Score)],1,-100)"
   ]
  },
  {
   "cell_type": "markdown",
   "metadata": {
    "tags": []
   },
   "source": [
    "Ok. Jetzt mach ich nen neuen constraint, bei dem ich definiere:\n",
    "\n",
    "$ x_{\\text{Long Island Ice Tea}} + x_{\\text{Mojito}} + x_{\\text{Erdbeer Daiquiri}} + x_{\\text{Heineken}} + x_{\\text{Corona}} + x_{\\text{Eristoff Ice}} + x_{\\text{Hugo Spritzer}} = 3 $"
   ]
  },
  {
   "cell_type": "code",
   "execution_count": 22,
   "metadata": {
    "tags": []
   },
   "outputs": [],
   "source": [
    "bqm.add_linear_equality_constraint([(drink, int(alk)) for drink,alk in zip(menu.Drink, menu.Alk)], lagrange_multiplier=1, constant=3 )"
   ]
  },
  {
   "cell_type": "markdown",
   "metadata": {},
   "source": [
    "Also probierens wir mal aus:"
   ]
  },
  {
   "cell_type": "code",
   "execution_count": 31,
   "metadata": {
    "tags": []
   },
   "outputs": [
    {
     "data": {
      "text/plain": [
       "{'Cola': 1,\n",
       " 'Corona': 0,\n",
       " 'Erdbeer Daiquiri': 0,\n",
       " 'Eristoff Ice': 1,\n",
       " 'Heineken': 0,\n",
       " 'Hugo Spritzer': 1,\n",
       " 'Leitungswasser': 1,\n",
       " 'Long Island Ice Tea': 0,\n",
       " 'Mineralwasser': 0,\n",
       " 'Mochito': 1}"
      ]
     },
     "execution_count": 31,
     "metadata": {},
     "output_type": "execute_result"
    }
   ],
   "source": [
    "optimizer = SteepestDescentSolver()\n",
    "sampleset = optimizer.sample(bqm=bqm)\n",
    "solution = sampleset.first.sample\n",
    "solution "
   ]
  },
  {
   "cell_type": "code",
   "execution_count": 32,
   "metadata": {
    "tags": []
   },
   "outputs": [
    {
     "data": {
      "text/plain": [
       "1           Mochito\n",
       "5      Eristoff Ice\n",
       "6     Hugo Spritzer\n",
       "7              Cola\n",
       "9    Leitungswasser\n",
       "Name: Drink, dtype: object"
      ]
     },
     "execution_count": 32,
     "metadata": {},
     "output_type": "execute_result"
    }
   ],
   "source": [
    "drinks_with_value_1 = [drink for drink, value in solution.items() if value == 1]\n",
    "result = menu[menu.Drink.isin(drinks_with_value_1)]\n",
    "\n",
    "result.Drink"
   ]
  },
  {
   "cell_type": "code",
   "execution_count": 33,
   "metadata": {
    "tags": []
   },
   "outputs": [
    {
     "data": {
      "text/plain": [
       "Euro     15.9\n",
       "Score     101\n",
       "Alk         3\n",
       "dtype: object"
      ]
     },
     "execution_count": 33,
     "metadata": {},
     "output_type": "execute_result"
    }
   ],
   "source": [
    "result.sum()[1:]"
   ]
  },
  {
   "cell_type": "markdown",
   "metadata": {},
   "source": [
    "As you can see sind im res nur 3 Alkoholische dinger drinnen :)"
   ]
  },
  {
   "attachments": {},
   "cell_type": "markdown",
   "metadata": {},
   "source": [
    "![sucess](powSet2attache/great-success-yes.gif)"
   ]
  }
 ],
 "metadata": {
  "kernelspec": {
   "display_name": "Python 3 (ipykernel)",
   "language": "python",
   "name": "python3"
  },
  "language_info": {
   "codemirror_mode": {
    "name": "ipython",
    "version": 3
   },
   "file_extension": ".py",
   "mimetype": "text/x-python",
   "name": "python",
   "nbconvert_exporter": "python",
   "pygments_lexer": "ipython3",
   "version": "3.10.8"
  },
  "widgets": {
   "application/vnd.jupyter.widget-state+json": {
    "state": {},
    "version_major": 2,
    "version_minor": 0
   }
  }
 },
 "nbformat": 4,
 "nbformat_minor": 4
}
