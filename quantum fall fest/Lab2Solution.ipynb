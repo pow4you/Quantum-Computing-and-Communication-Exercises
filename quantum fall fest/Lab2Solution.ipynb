{
 "cells": [
  {
   "cell_type": "markdown",
   "id": "f61f8072-7ef8-4828-91ec-dcace802acb9",
   "metadata": {
    "nbgrader": {
     "grade": false,
     "grade_id": "cell-56334e78c11200c5",
     "locked": true,
     "schema_version": 3,
     "solution": false,
     "task": false
    }
   },
   "source": [
    "# Welcome to Quantum Spy Training Part 2\n",
    "<h2 style=\"font-size: 30px;\"><span style=\"font-family: cursive;\"><strong style=\"color: red;\">Introduction</h2></span>\n",
    "\n",
    "\n",
    "<p style=\"font-size: 18px;\">Welcome to Part 2 of Quantum Spy Training! In the previous part, you were introduced to your mission, which involves retrieving classified information from a highly secure facility using quantum technology. Now, let's continue your training.\n",
    "\n",
    "</p>"
   ]
  },
  {
   "cell_type": "markdown",
   "id": "de6ec81a-5771-42b2-9f3e-e7db8314cb23",
   "metadata": {
    "nbgrader": {
     "grade": false,
     "grade_id": "cell-4451a9e6fd94a88a",
     "locked": true,
     "schema_version": 3,
     "solution": false,
     "task": false
    }
   },
   "source": [
    "<div style=\"text-align: center;\">\n",
    "  <img src=\"https://drive.google.com/uc?id=1E0mM407rgNsbZJMEVQQNThXuMMFaLBpv\" alt=\"\" width=\"600\"/>\n",
    "</div>"
   ]
  },
  {
   "cell_type": "code",
   "execution_count": 1,
   "id": "ad6eb2cc-3d03-4873-85c3-6cdec62ba1a7",
   "metadata": {
    "nbgrader": {
     "grade": false,
     "grade_id": "cell-e7ea86923fb9eb0d",
     "locked": true,
     "schema_version": 3,
     "solution": false,
     "task": false
    }
   },
   "outputs": [
    {
     "name": "stdout",
     "output_type": "stream",
     "text": [
      "Requirement already satisfied: qiskit in /Users/somyarathee/anaconda3/lib/python3.11/site-packages (0.44.2)\n",
      "Requirement already satisfied: qiskit-terra==0.25.2.1 in /Users/somyarathee/anaconda3/lib/python3.11/site-packages (from qiskit) (0.25.2.1)\n",
      "Requirement already satisfied: rustworkx>=0.13.0 in /Users/somyarathee/anaconda3/lib/python3.11/site-packages (from qiskit-terra==0.25.2.1->qiskit) (0.13.2)\n",
      "Requirement already satisfied: numpy>=1.17 in /Users/somyarathee/anaconda3/lib/python3.11/site-packages (from qiskit-terra==0.25.2.1->qiskit) (1.24.3)\n",
      "Requirement already satisfied: ply>=3.10 in /Users/somyarathee/anaconda3/lib/python3.11/site-packages (from qiskit-terra==0.25.2.1->qiskit) (3.11)\n",
      "Requirement already satisfied: psutil>=5 in /Users/somyarathee/anaconda3/lib/python3.11/site-packages (from qiskit-terra==0.25.2.1->qiskit) (5.9.0)\n",
      "Requirement already satisfied: scipy>=1.5 in /Users/somyarathee/anaconda3/lib/python3.11/site-packages (from qiskit-terra==0.25.2.1->qiskit) (1.11.1)\n",
      "Requirement already satisfied: sympy>=1.3 in /Users/somyarathee/anaconda3/lib/python3.11/site-packages (from qiskit-terra==0.25.2.1->qiskit) (1.11.1)\n",
      "Requirement already satisfied: dill>=0.3 in /Users/somyarathee/anaconda3/lib/python3.11/site-packages (from qiskit-terra==0.25.2.1->qiskit) (0.3.6)\n",
      "Requirement already satisfied: python-dateutil>=2.8.0 in /Users/somyarathee/anaconda3/lib/python3.11/site-packages (from qiskit-terra==0.25.2.1->qiskit) (2.8.2)\n",
      "Requirement already satisfied: stevedore>=3.0.0 in /Users/somyarathee/anaconda3/lib/python3.11/site-packages (from qiskit-terra==0.25.2.1->qiskit) (5.1.0)\n",
      "Requirement already satisfied: symengine<0.10,>=0.9 in /Users/somyarathee/anaconda3/lib/python3.11/site-packages (from qiskit-terra==0.25.2.1->qiskit) (0.9.2)\n",
      "Requirement already satisfied: six>=1.5 in /Users/somyarathee/anaconda3/lib/python3.11/site-packages (from python-dateutil>=2.8.0->qiskit-terra==0.25.2.1->qiskit) (1.16.0)\n",
      "Requirement already satisfied: pbr!=2.1.0,>=2.0.0 in /Users/somyarathee/anaconda3/lib/python3.11/site-packages (from stevedore>=3.0.0->qiskit-terra==0.25.2.1->qiskit) (5.11.1)\n",
      "Requirement already satisfied: mpmath>=0.19 in /Users/somyarathee/anaconda3/lib/python3.11/site-packages (from sympy>=1.3->qiskit-terra==0.25.2.1->qiskit) (1.3.0)\n",
      "Requirement already satisfied: qiskit-aer in /Users/somyarathee/anaconda3/lib/python3.11/site-packages (0.12.2)\n",
      "Requirement already satisfied: qiskit-terra>=0.21.0 in /Users/somyarathee/anaconda3/lib/python3.11/site-packages (from qiskit-aer) (0.25.2.1)\n",
      "Requirement already satisfied: numpy>=1.16.3 in /Users/somyarathee/anaconda3/lib/python3.11/site-packages (from qiskit-aer) (1.24.3)\n",
      "Requirement already satisfied: scipy>=1.0 in /Users/somyarathee/anaconda3/lib/python3.11/site-packages (from qiskit-aer) (1.11.1)\n",
      "Requirement already satisfied: rustworkx>=0.13.0 in /Users/somyarathee/anaconda3/lib/python3.11/site-packages (from qiskit-terra>=0.21.0->qiskit-aer) (0.13.2)\n",
      "Requirement already satisfied: ply>=3.10 in /Users/somyarathee/anaconda3/lib/python3.11/site-packages (from qiskit-terra>=0.21.0->qiskit-aer) (3.11)\n",
      "Requirement already satisfied: psutil>=5 in /Users/somyarathee/anaconda3/lib/python3.11/site-packages (from qiskit-terra>=0.21.0->qiskit-aer) (5.9.0)\n",
      "Requirement already satisfied: sympy>=1.3 in /Users/somyarathee/anaconda3/lib/python3.11/site-packages (from qiskit-terra>=0.21.0->qiskit-aer) (1.11.1)\n",
      "Requirement already satisfied: dill>=0.3 in /Users/somyarathee/anaconda3/lib/python3.11/site-packages (from qiskit-terra>=0.21.0->qiskit-aer) (0.3.6)\n",
      "Requirement already satisfied: python-dateutil>=2.8.0 in /Users/somyarathee/anaconda3/lib/python3.11/site-packages (from qiskit-terra>=0.21.0->qiskit-aer) (2.8.2)\n",
      "Requirement already satisfied: stevedore>=3.0.0 in /Users/somyarathee/anaconda3/lib/python3.11/site-packages (from qiskit-terra>=0.21.0->qiskit-aer) (5.1.0)\n",
      "Requirement already satisfied: symengine<0.10,>=0.9 in /Users/somyarathee/anaconda3/lib/python3.11/site-packages (from qiskit-terra>=0.21.0->qiskit-aer) (0.9.2)\n",
      "Requirement already satisfied: six>=1.5 in /Users/somyarathee/anaconda3/lib/python3.11/site-packages (from python-dateutil>=2.8.0->qiskit-terra>=0.21.0->qiskit-aer) (1.16.0)\n",
      "Requirement already satisfied: pbr!=2.1.0,>=2.0.0 in /Users/somyarathee/anaconda3/lib/python3.11/site-packages (from stevedore>=3.0.0->qiskit-terra>=0.21.0->qiskit-aer) (5.11.1)\n",
      "Requirement already satisfied: mpmath>=0.19 in /Users/somyarathee/anaconda3/lib/python3.11/site-packages (from sympy>=1.3->qiskit-terra>=0.21.0->qiskit-aer) (1.3.0)\n",
      "Requirement already satisfied: matplotlib in /Users/somyarathee/anaconda3/lib/python3.11/site-packages (3.7.2)\n",
      "Requirement already satisfied: contourpy>=1.0.1 in /Users/somyarathee/anaconda3/lib/python3.11/site-packages (from matplotlib) (1.0.5)\n",
      "Requirement already satisfied: cycler>=0.10 in /Users/somyarathee/anaconda3/lib/python3.11/site-packages (from matplotlib) (0.11.0)\n",
      "Requirement already satisfied: fonttools>=4.22.0 in /Users/somyarathee/anaconda3/lib/python3.11/site-packages (from matplotlib) (4.25.0)\n",
      "Requirement already satisfied: kiwisolver>=1.0.1 in /Users/somyarathee/anaconda3/lib/python3.11/site-packages (from matplotlib) (1.4.4)\n",
      "Requirement already satisfied: numpy>=1.20 in /Users/somyarathee/anaconda3/lib/python3.11/site-packages (from matplotlib) (1.24.3)\n",
      "Requirement already satisfied: packaging>=20.0 in /Users/somyarathee/anaconda3/lib/python3.11/site-packages (from matplotlib) (23.1)\n",
      "Requirement already satisfied: pillow>=6.2.0 in /Users/somyarathee/anaconda3/lib/python3.11/site-packages (from matplotlib) (9.4.0)\n",
      "Requirement already satisfied: pyparsing<3.1,>=2.3.1 in /Users/somyarathee/anaconda3/lib/python3.11/site-packages (from matplotlib) (3.0.9)\n",
      "Requirement already satisfied: python-dateutil>=2.7 in /Users/somyarathee/anaconda3/lib/python3.11/site-packages (from matplotlib) (2.8.2)\n",
      "Requirement already satisfied: six>=1.5 in /Users/somyarathee/anaconda3/lib/python3.11/site-packages (from python-dateutil>=2.7->matplotlib) (1.16.0)\n",
      "Requirement already satisfied: pylatexenc in /Users/somyarathee/anaconda3/lib/python3.11/site-packages (2.10)\n",
      "Requirement already satisfied: numpy in /Users/somyarathee/anaconda3/lib/python3.11/site-packages (1.24.3)\n",
      "Requirement already satisfied: tqdm in /Users/somyarathee/anaconda3/lib/python3.11/site-packages (4.65.0)\n"
     ]
    }
   ],
   "source": [
    "!pip install qiskit\n",
    "!pip install qiskit-aer\n",
    "!pip install matplotlib\n",
    "!pip install pylatexenc\n",
    "!pip install numpy\n",
    "!pip3 install tqdm"
   ]
  },
  {
   "cell_type": "code",
   "execution_count": 2,
   "id": "49458078-30b6-4052-aa79-9aa1706806c0",
   "metadata": {
    "nbgrader": {
     "grade": false,
     "grade_id": "cell-b29240a7d0494a46",
     "locked": true,
     "schema_version": 3,
     "solution": false,
     "task": false
    }
   },
   "outputs": [],
   "source": [
    "\n",
    "import numpy as np\n",
    "import matplotlib.pyplot as plt\n",
    "\n",
    "# Importing standard Qiskit libraries\n",
    "from qiskit import QuantumCircuit, QuantumRegister, transpile, Aer, IBMQ, execute\n",
    "from qiskit.tools.jupyter import *\n",
    "from qiskit.visualization import *\n",
    "#from ibm_quantum_widgets import *\n",
    "from qiskit.providers.aer import QasmSimulator\n",
    "from tqdm.notebook import tqdm\n",
    "\n",
    "from qiskit.providers.aer import QasmSimulator\n",
    "from qiskit.tools.monitor import job_monitor\n",
    "from qiskit.circuit import Parameter\n",
    "import qiskit.quantum_info as qi\n",
    "\n",
    "# Suppress warnings\n",
    "import warnings\n",
    "warnings.filterwarnings('ignore')\n",
    "\n",
    "import pylatexenc # Required to use 'MatplotlibDrawer'.\n",
    "import IPython\n",
    "\n",
    "from qiskit import QuantumCircuit, execute, Aer, IBMQ, QuantumRegister, ClassicalRegister\n",
    "from qiskit.visualization import plot_bloch_multivector\n",
    "\n",
    "points=0"
   ]
  },
  {
   "cell_type": "markdown",
   "id": "0d08cfb0-345f-4e2c-9725-f9fdf78459f9",
   "metadata": {
    "nbgrader": {
     "grade": false,
     "grade_id": "cell-19bd6c5ca714ee0f",
     "locked": true,
     "schema_version": 3,
     "solution": false,
     "task": false
    }
   },
   "source": [
    "<h2 style=\"font-size: 30px;\"><span style=\"font-family: cursive;\"><strong style=\"color: red;\">Chapter 5:</strong> Quantum Circuits </h2></span>\n",
    "\n",
    "<h3 style=\"font-size: 22px;\"><strong style=\"color: red;\"> Exercise 1: Recreating Quantum Circuits</strong> </h3>\n",
    "\n",
    "\n",
    "\n",
    "<p style=\"font-size: 18px;\">\n",
    "In this exercise, we will be recreating quantum circuits using the Qiskit library.</p>\n",
    "\n",
    "<p style=\"font-size: 18px;\"><strong>What is a quantum circuit?</strong></p>\n",
    "<p style=\"font-size: 18px;\">\n",
    "A quantum circuit is a way of representing and manipulating quantum information. It consists of a series of quantum gates, which are operations that act on the quantum bits (qubits) in the circuit. These gates allow us to perform various operations such as creating superposition states, manipulating entanglement, and performing measurements.\n",
    "<p style=\"font-size: 18px;\">\n",
    "Using Qiskit, we can create quantum circuits and run them on quantum computers or simulators. The library provides a simple and intuitive interface for constructing circuits, adding gates, and visualizing the results.</p>\n",
    "<p style=\"font-size: 18px;\">\n",
    "In this exercise, we will start by creating a simple circuit with a single qubit. We will add gates to the circuit to create a superposition state. Then, we will measure the qubit and visualize the results.\n",
    "<p style=\"font-size: 18px;\">\n",
    "Next, we will create a more complex circuit with multiple qubits. We will add entangling gates to create entanglement between the qubits and perform measurements on the individual and entangled qubits.\n",
    "<p style=\"font-size: 18px;\">\n",
    "By the end of this exercise, you will have a good understanding of how to create quantum circuits using Qiskit and how to add gates to manipulate the qubits.</p>\n",
    "\n",
    "\n",
    "    \n",
    "<div style=\"text-align: center;\">\n",
    "  <img src=\"https://drive.google.com/uc?id=1fqS4tNwbrt5E8_nTdOR1PSsbSFWbNQ5r\" alt=\"drawing\" width=\"500\"/>\n",
    "</div>\n",
    "\n"
   ]
  },
  {
   "cell_type": "markdown",
   "id": "7a3d269b-3def-4918-a008-4fde244c8a00",
   "metadata": {
    "nbgrader": {
     "grade": false,
     "grade_id": "cell-02950bd82437205c",
     "locked": true,
     "schema_version": 3,
     "solution": false,
     "task": false
    }
   },
   "source": [
    "<p style=\"font-size: 20px;\" ><strong style=\"color: blue;\">Task 5.1: Build the first circuit:</strong> Recreate this circuit: 3 Qubits and 3 Classical </p>\n",
    "\n"
   ]
  },
  {
   "cell_type": "markdown",
   "id": "17aa4ea9-511b-4e9c-8480-1d6839fb6e2e",
   "metadata": {
    "nbgrader": {
     "grade": false,
     "grade_id": "cell-179dc72a8c9c1e4d",
     "locked": true,
     "schema_version": 3,
     "solution": false,
     "task": false
    }
   },
   "source": [
    "\n",
    "<div style=\"text-align: center;\">\n",
    "  <img src=\"https://drive.google.com/uc?id=1M-J88dbu0OzAh2JUtC9yvOTHMwZ406do\" alt=\"drawing\" width=\"800\"/>\n",
    "</div>\n"
   ]
  },
  {
   "cell_type": "markdown",
   "id": "0e3fcdf8-c892-46c2-8ad0-f1c4c6c84995",
   "metadata": {
    "nbgrader": {
     "grade": false,
     "grade_id": "cell-887a9bd1270006ce",
     "locked": true,
     "schema_version": 3,
     "solution": false,
     "task": false
    }
   },
   "source": [
    "\n",
    "<p style=\"font-size: 18px;\"><strong style=\"color: blue;\">YOUR TURN: Task 5.1.1</strong>: Create a circuit named <strong>circuit1</strong> with 3 Qubits and 3 Classical Bits"
   ]
  },
  {
   "cell_type": "code",
   "execution_count": 3,
   "id": "cd20a1ea-9a20-4152-993b-38aaeaadf630",
   "metadata": {
    "nbgrader": {
     "grade": false,
     "grade_id": "cell-a2c6e437fbe72ce8",
     "locked": false,
     "schema_version": 3,
     "solution": true,
     "task": false
    }
   },
   "outputs": [],
   "source": [
    "#YOUR CODE\n",
    "circuit1 = QuantumCircuit(3, 3)"
   ]
  },
  {
   "cell_type": "code",
   "execution_count": 4,
   "id": "c10a7651-a8e1-471a-8322-bb9f22fd7edb",
   "metadata": {
    "nbgrader": {
     "grade": true,
     "grade_id": "cell-a7b71c62c1c47a9e",
     "locked": true,
     "points": 0,
     "schema_version": 3,
     "solution": false,
     "task": false
    }
   },
   "outputs": [
    {
     "name": "stdout",
     "output_type": "stream",
     "text": [
      "Yayy🥳🥳! You scored 2/2 points\n"
     ]
    }
   ],
   "source": [
    "#Test - Dont change anything here\n",
    "assert isinstance(circuit1, QuantumCircuit), \"circuit1 should be a QuantumCircuit\"\n",
    "assert circuit1.num_qubits == 3, \"circuit1 should have 3 qubits\"\n",
    "assert circuit1.num_clbits == 3, \"circuit1 should have 3 classical bits\"\n",
    "\n",
    "\n",
    "if all([\n",
    "    isinstance(circuit1, QuantumCircuit),\n",
    "    circuit1.num_qubits == 3,\n",
    "    circuit1.num_clbits == 3\n",
    "]):\n",
    "    points += 2\n",
    "\n",
    "    print(\"Yayy🥳🥳! You scored 2/2 points\")\n",
    "\n",
    "\n"
   ]
  },
  {
   "cell_type": "markdown",
   "id": "b2ab7af8-2d1d-4be6-a638-dc64a831e0b6",
   "metadata": {
    "nbgrader": {
     "grade": false,
     "grade_id": "cell-9a7491da86747236",
     "locked": true,
     "schema_version": 3,
     "solution": false,
     "task": false
    }
   },
   "source": [
    "\n",
    "<p style=\"font-size: 18px;\"><strong style=\"color: blue;\">YOUR TURN: Task 5.1.2</strong>: Apply the above gates to your qubits <strong></strong> "
   ]
  },
  {
   "cell_type": "code",
   "execution_count": 5,
   "id": "81605092-9c76-4b07-a4a5-374abfd359be",
   "metadata": {
    "nbgrader": {
     "grade": false,
     "grade_id": "cell-714de6ae747e72c0",
     "locked": false,
     "schema_version": 3,
     "solution": true,
     "task": false
    }
   },
   "outputs": [],
   "source": [
    "#YOUR CODE\n",
    "def f(circuit1):\n",
    "\n",
    "    circuit1.h(1)\n",
    "    circuit1.cx(1,2)\n",
    "    circuit1.cx(0,1)\n",
    "    circuit1.h(0)\n",
    "    circuit1.barrier()\n",
    "    circuit1.measure(0,0)\n",
    "    circuit1.measure(1,1)\n",
    "    circuit1.barrier()\n",
    "    circuit1.cx(1,2)\n",
    "    circuit1.cz(0,2)\n"
   ]
  },
  {
   "cell_type": "code",
   "execution_count": 6,
   "id": "4599cbd6-7121-404d-9c7b-a5547f0ac86f",
   "metadata": {
    "nbgrader": {
     "grade": false,
     "grade_id": "cell-cbe905ef2d2f33be",
     "locked": true,
     "schema_version": 3,
     "solution": false,
     "task": false
    }
   },
   "outputs": [
    {
     "data": {
      "image/png": "[encoded data removed]",
      "text/plain": [
       "<Figure size 956.385x367.889 with 1 Axes>"
      ]
     },
     "execution_count": 6,
     "metadata": {},
     "output_type": "execute_result"
    }
   ],
   "source": [
    "#Dont change anything here\n",
    "f(circuit1)\n",
    "circuit_drawer(circuit1, output=\"mpl\")"
   ]
  },
  {
   "cell_type": "code",
   "execution_count": 7,
   "id": "9ee9411a-b327-440c-a16f-3fb39e247a28",
   "metadata": {
    "nbgrader": {
     "grade": true,
     "grade_id": "cell-e5b83cf4befaf24a",
     "locked": true,
     "points": 0,
     "schema_version": 3,
     "solution": false,
     "task": false
    }
   },
   "outputs": [
    {
     "name": "stdout",
     "output_type": "stream",
     "text": [
      "Yayy🥳🥳! You scored 3/3 points\n"
     ]
    }
   ],
   "source": [
    "#Test - Dont change anything here\n",
    "\n",
    "from qiskit import Aer\n",
    "import numpy as np\n",
    "from qiskit.quantum_info.operators.symplectic import Pauli\n",
    "\n",
    "op = Pauli('ZII')\n",
    "\n",
    "# Run the quantum circuit on a statevector simulator backend\n",
    "backend = Aer.get_backend('statevector_simulator')\n",
    "\n",
    "\n",
    "init_angles = [0., np.pi/6]\n",
    "expected_results = [1., 0.866]\n",
    "\n",
    "for init_angle, expected_result in zip(init_angles, expected_results):\n",
    "    test_circ = QuantumCircuit(3,3)\n",
    "    test_circ.ry(init_angle, 0) # init state that shall be teleported\n",
    "    f(test_circ) # perform teleportation\n",
    "\n",
    "    # measure the result\n",
    "    job = backend.run(test_circ)\n",
    "    result = job.result()\n",
    "    outputstate = result.get_statevector(test_circ, decimals=4)\n",
    "    expval = outputstate.expectation_value(op)\n",
    "\n",
    "    assert np.isclose(expval, expected_result, rtol=1e-3), \"the circuit is incorrect.\"\n",
    "\n",
    "if np.isclose(expval, expected_result, rtol=1e-3):\n",
    "    points+=3\n",
    "    print(\"Yayy🥳🥳! You scored 3/3 points\")\n",
    "\n"
   ]
  },
  {
   "cell_type": "markdown",
   "id": "b41aa6ef-b01f-4b4d-83d1-afb1a56c7229",
   "metadata": {
    "nbgrader": {
     "grade": false,
     "grade_id": "cell-6e732fe1794b5279",
     "locked": true,
     "schema_version": 3,
     "solution": false,
     "task": false
    }
   },
   "source": [
    "<p style=\"font-size: 18px;\">Congo! You successfully completed your first circuit! 🥳🥳🥳</p>"
   ]
  },
  {
   "cell_type": "markdown",
   "id": "21517bba-aa7c-4771-9096-8ceed983081e",
   "metadata": {
    "nbgrader": {
     "grade": false,
     "grade_id": "cell-c9231390caa3be85",
     "locked": true,
     "schema_version": 3,
     "solution": false,
     "task": false
    }
   },
   "source": [
    "\n",
    "<p style=\"font-size: 20px;\" ><strong style=\"color: blue;\">Task 5.2: Build the second circuit:</strong> Recreate this circuit: 5 Qubits and 3 Classical </p>\n",
    "\n"
   ]
  },
  {
   "cell_type": "markdown",
   "id": "3c137267-86e7-4a77-9a13-955180f9450f",
   "metadata": {
    "nbgrader": {
     "grade": false,
     "grade_id": "cell-a37a5b51a730b9dc",
     "locked": true,
     "schema_version": 3,
     "solution": false,
     "task": false
    }
   },
   "source": [
    "\n",
    "<div style=\"text-align: center;\">\n",
    "  <img src=\"https://drive.google.com/uc?id=11uiRJWalqYYT9W_vrxz805F27gXflN18\" alt=\"drawing\" width=\"800\"/>\n",
    "</div>\n"
   ]
  },
  {
   "cell_type": "markdown",
   "id": "fcb3f02c-f849-4efc-9f18-46d9543496e5",
   "metadata": {
    "nbgrader": {
     "grade": false,
     "grade_id": "cell-c7dac34c2171d1c7",
     "locked": true,
     "schema_version": 3,
     "solution": false,
     "task": false
    }
   },
   "source": [
    "\n",
    "<p style=\"font-size: 18px;\"><strong style=\"color: blue;\">YOUR TURN: Task 5.2.1</strong>: Create a circuit named <strong>circuit2</strong> with 5 Qubits and 3 Classical Bits"
   ]
  },
  {
   "cell_type": "code",
   "execution_count": 8,
   "id": "dd362863-4ab8-431c-b0e6-b8cbe1acf493",
   "metadata": {
    "nbgrader": {
     "grade": false,
     "grade_id": "cell-6f826a2833116af1",
     "locked": false,
     "schema_version": 3,
     "solution": true,
     "task": false
    }
   },
   "outputs": [],
   "source": [
    "# Create a quantum circuit with 5 qubits and 3 classical bits\n",
    "circuit2 = QuantumCircuit(5, 3)\n"
   ]
  },
  {
   "cell_type": "code",
   "execution_count": 9,
   "id": "05136cf2-8ad0-4619-b226-4244238d6e3d",
   "metadata": {
    "nbgrader": {
     "grade": true,
     "grade_id": "cell-a3c2ba69cd7c4c8d",
     "locked": true,
     "points": 0,
     "schema_version": 3,
     "solution": false,
     "task": false
    }
   },
   "outputs": [
    {
     "name": "stdout",
     "output_type": "stream",
     "text": [
      "Yayy🥳🥳! You scored 2/2 points\n"
     ]
    }
   ],
   "source": [
    "assert isinstance(circuit1, QuantumCircuit), \"circuit2 should be a QuantumCircuit\"\n",
    "assert circuit2.num_qubits == 5, \"circuit1 should have 3 qubits\"\n",
    "assert circuit2.num_clbits == 3, \"circuit1 should have 3 classical bits\"\n",
    "\n",
    "if all([\n",
    "    isinstance(circuit2, QuantumCircuit),\n",
    "    circuit2.num_qubits == 5,\n",
    "    circuit2.num_clbits == 3\n",
    "]):\n",
    "    points += 2\n",
    "    print(\"Yayy🥳🥳! You scored 2/2 points\")\n",
    "    "
   ]
  },
  {
   "cell_type": "markdown",
   "id": "3d074a90-b7aa-4c51-a22e-a75e63536b30",
   "metadata": {
    "nbgrader": {
     "grade": false,
     "grade_id": "cell-cfc11555e94e99d8",
     "locked": true,
     "schema_version": 3,
     "solution": false,
     "task": false
    }
   },
   "source": [
    "<p style=\"font-size: 18px;\"><strong style=\"color: blue;\">YOUR TURN: Task 5.2.2</strong>: Apply the gates in the above circuits to your qubits <strong></strong> "
   ]
  },
  {
   "cell_type": "code",
   "execution_count": 10,
   "id": "ca95e389-f1e2-4e02-b5a7-76277f4de579",
   "metadata": {
    "nbgrader": {
     "grade": false,
     "grade_id": "cell-9749a2d8190729ea",
     "locked": false,
     "schema_version": 3,
     "solution": true,
     "task": false
    }
   },
   "outputs": [],
   "source": [
    "# Apply gates to the circuit\n",
    "def f2(circuit2):\n",
    "    circuit2.h(0)\n",
    "    circuit2.h(1)\n",
    "    circuit2.cx(0, 2)\n",
    "    circuit2.cx(1, 2)\n",
    "    circuit2.tdg(0)\n",
    "    circuit2.t(1)\n",
    "    circuit2.barrier()\n",
    "    circuit2.cx(2, 3)\n",
    "    circuit2.ccx(2, 3, 4)\n",
    "    circuit2.h(2)\n",
    "    circuit2.cswap(0, 1, 2)\n",
    "    circuit2.barrier()\n",
    "    \n"
   ]
  },
  {
   "cell_type": "code",
   "execution_count": 11,
   "id": "d6f35da7-28ae-49a2-9b44-91d7e520d670",
   "metadata": {
    "nbgrader": {
     "grade": false,
     "grade_id": "cell-15390fd3fc5de42f",
     "locked": true,
     "schema_version": 3,
     "solution": false,
     "task": false
    }
   },
   "outputs": [
    {
     "data": {
      "image/png": "[encoded data removed]",
      "text/plain": [
       "<Figure size 1207.22x535.111 with 1 Axes>"
      ]
     },
     "execution_count": 11,
     "metadata": {},
     "output_type": "execute_result"
    }
   ],
   "source": [
    "# Don't change anything here\n",
    "\n",
    "f2(circuit2)\n",
    "circuit2.measure(0, 0)\n",
    "circuit2.measure(1, 1)\n",
    "circuit2.measure(4, 2)\n",
    "\n",
    "circuit_drawer(circuit2, output=\"mpl\")"
   ]
  },
  {
   "cell_type": "code",
   "execution_count": 12,
   "id": "fd7ee1d8-066a-4437-9c78-0e1d6a78613a",
   "metadata": {
    "nbgrader": {
     "grade": true,
     "grade_id": "cell-c80eb7e888c036ec",
     "locked": true,
     "points": 0,
     "schema_version": 3,
     "solution": false,
     "task": false
    }
   },
   "outputs": [
    {
     "name": "stdout",
     "output_type": "stream",
     "text": [
      "Yayy🥳🥳! You scored 3/3 points\n"
     ]
    }
   ],
   "source": [
    "#Test - Dont change anything here\n",
    "outputstates = []\n",
    "\n",
    "def prep_test1(circ):\n",
    "    pass\n",
    "\n",
    "def prep_test2(circ):\n",
    "    # some random initialization of the circuit\n",
    "    circ.h(0)\n",
    "    circ.h(1)\n",
    "    circ.h(2)\n",
    "    circ.cx(2,3)\n",
    "    circ.cx(3,0)\n",
    "\n",
    "preps = [prep_test1, prep_test2]\n",
    "states = [\n",
    "    [ 0.3536+0.j  ,  0.    +0.j  ,  0.    +0.j  ,  0.    +0.j  ,\n",
    "      0.3536+0.j  ,  0.3536+0.j  ,  0.    +0.j  ,  0.3536+0.j  ,\n",
    "      0.    +0.j  ,  0.    +0.j  ,  0.    +0.j  ,  0.    +0.j  ,\n",
    "      0.    +0.j  ,  0.    +0.j  ,  0.    +0.j  ,  0.    +0.j  ,\n",
    "      0.    +0.j  ,  0.    +0.j  ,  0.    +0.j  ,  0.    +0.j  ,\n",
    "      0.    +0.j  ,  0.    +0.j  ,  0.    +0.j  ,  0.    +0.j  ,\n",
    "      0.    +0.j  ,  0.25  -0.25j,  0.25  +0.25j, -0.25  +0.25j,\n",
    "      0.    +0.j  ,  0.    +0.j  , -0.25  -0.25j,  0.    +0.j  ],\n",
    "    [ 1.-0.j,  0.+0.j,  0.+0.j,  0.+0.j, -0.+0.j, -0.-0.j,  0.+0.j,\n",
    "      0.+0.j,  0.+0.j, -0.+0.j, -0.+0.j, -0.+0.j,  0.+0.j,  0.+0.j,\n",
    "      -0.+0.j,  0.+0.j,  0.+0.j,  0.+0.j,  0.+0.j,  0.+0.j,  0.+0.j,\n",
    "      0.+0.j,  0.+0.j,  0.+0.j,  0.+0.j,  0.+0.j, -0.-0.j, -0.-0.j,\n",
    "      0.+0.j,  0.+0.j,  0.+0.j,  0.+0.j]\n",
    "]\n",
    "\n",
    "for prep, state in zip(preps, states):\n",
    "    circuit2 = QuantumCircuit(5, 3)\n",
    "\n",
    "    # Apply gates to the circuit\n",
    "    prep(circuit2)\n",
    "    f2(circuit2)\n",
    "\n",
    "    backend = Aer.get_backend('statevector_simulator')\n",
    "    job = backend.run(circuit2)\n",
    "    result = job.result()\n",
    "    outputstate = result.get_statevector(circuit2, decimals=4)\n",
    "    \n",
    "    assert np.allclose(outputstate, state), \"circuit is wrong\"\n",
    "\n",
    "\n",
    "points+=3\n",
    "print(\"Yayy🥳🥳! You scored 3/3 points\")\n",
    "    \n"
   ]
  },
  {
   "cell_type": "markdown",
   "id": "7ff2e2db-74dd-4ca7-a2d7-66cf92c478e9",
   "metadata": {
    "nbgrader": {
     "grade": false,
     "grade_id": "cell-d0b8abece7382f01",
     "locked": true,
     "schema_version": 3,
     "solution": false,
     "task": false
    }
   },
   "source": [
    "\n",
    "<h3 style=\"font-size: 22px;\"><strong style=\"color: red;\"> Exercise 2: Measuring Circuit Depth</strong> </h3>\n",
    "\n",
    "<p style=\"font-size: 18px;\">\n",
    "In this exercise, we will explore the concept of circuit depth in quantum circuits.</p>\n",
    "\n",
    "\n",
    "<p style=\"font-size: 18px;\">\n",
    "The circuit depth refers to the number of layers or levels in a quantum circuit. Each layer consists of a set of gates that act on the qubits simultaneously. The depth of the circuit determines the number of computational steps required to execute the circuit. Gates that operate on independed sets of qubits are generally executed in parallel to shorten execution time, and prevent decoherence. </p>"
   ]
  },
  {
   "cell_type": "markdown",
   "id": "7f7e86a7-2a3e-4efd-b427-75eb5fc4e72b",
   "metadata": {
    "nbgrader": {
     "grade": false,
     "grade_id": "cell-e63994d04182505e",
     "locked": true,
     "schema_version": 3,
     "solution": false,
     "task": false
    }
   },
   "source": [
    "<p style=\"font-size: 18px;\"><strong>Why is cirucit depth important?</strong></p>\n",
    "<p style=\"font-size: 18px;\">\n",
    "By increasing the circuit depth, we can perform more complex operations and achieve more powerful computations. However, deeper circuits take longer to execute, hence making external perturbations more likely to occur mid-calculation. Quantum gates are also not perfect, and commulative errors in deep circuits can lead to noisy results.</p>"
   ]
  },
  {
   "cell_type": "markdown",
   "id": "8c69ead5-5c44-4a49-b227-7b9457d793d8",
   "metadata": {
    "nbgrader": {
     "grade": false,
     "grade_id": "cell-8998cddb980f97b3",
     "locked": true,
     "schema_version": 3,
     "solution": false,
     "task": false
    }
   },
   "source": [
    "\n",
    "<div style=\"text-align: center;\">\n",
    "  <img src=\"https://drive.google.com/uc?id=17Ojxhi-TBOiKSWCuLrXnBeElIJmz-D_7\" alt=\"drawing\" width=\"500\"/>\n",
    "</div>\n"
   ]
  },
  {
   "cell_type": "markdown",
   "id": "4ee5780d-3e9b-428a-8d51-a6b0d5418551",
   "metadata": {
    "nbgrader": {
     "grade": false,
     "grade_id": "cell-ffb08cbc6813f82b",
     "locked": true,
     "schema_version": 3,
     "solution": false,
     "task": false
    }
   },
   "source": [
    "<p style=\"font-size: 17px;\"><strong style=\"color: blue;\">OUR TURN:</strong><strong> Walkthrough Example of Circuit Depth</strong> </p> \n",
    "\n",
    "<p style=\"font-size: 15px;\"><strong style=\"color: blue;\">1. We create a small circuit with 2 qubits and apply 2 gates to it</strong> </p> \n"
   ]
  },
  {
   "cell_type": "code",
   "execution_count": 13,
   "id": "439e3a33-f568-4993-931e-d323590f2c2d",
   "metadata": {
    "nbgrader": {
     "grade": false,
     "grade_id": "cell-dd9e93d3a4f36af6",
     "locked": true,
     "schema_version": 3,
     "solution": false,
     "task": false
    }
   },
   "outputs": [
    {
     "data": {
      "text/html": [
       "<pre style=\"word-wrap: normal;white-space: pre;background: #fff0;line-height: 1.1;font-family: &quot;Courier New&quot;,Courier,monospace\">     ┌───┐        \n",
       "q_0: ┤ H ├──■─────\n",
       "     └───┘┌─┴─┐┌─┐\n",
       "q_1: ─────┤ X ├┤M├\n",
       "          └───┘└╥┘\n",
       "c: 1/═══════════╩═\n",
       "                0 </pre>"
      ],
      "text/plain": [
       "     ┌───┐        \n",
       "q_0: ┤ H ├──■─────\n",
       "     └───┘┌─┴─┐┌─┐\n",
       "q_1: ─────┤ X ├┤M├\n",
       "          └───┘└╥┘\n",
       "c: 1/═══════════╩═\n",
       "                0 "
      ]
     },
     "execution_count": 13,
     "metadata": {},
     "output_type": "execute_result"
    }
   ],
   "source": [
    "from qiskit import QuantumCircuit\n",
    "\n",
    "# Create a quantum circuit with 2 qubits and 1 classical bit\n",
    "circuit = QuantumCircuit(2, 1)\n",
    "\n",
    "# Add gates to manipulate the qubits\n",
    "circuit.h(0)\n",
    "circuit.cx(0, 1)\n",
    "\n",
    "# Measure the qubits and store the result in a classical bit\n",
    "circuit.measure(1, 0)\n",
    "\n",
    "# Visualize the circuit\n",
    "circuit.draw()\n"
   ]
  },
  {
   "cell_type": "markdown",
   "id": "8fd120f5-d685-47a1-8ad9-64814c8544f4",
   "metadata": {
    "nbgrader": {
     "grade": false,
     "grade_id": "cell-6bd37e40e1ded495",
     "locked": true,
     "schema_version": 3,
     "solution": false,
     "task": false
    }
   },
   "source": [
    "\n",
    "<p style=\"font-size: 15px;\"><strong style=\"color: blue;\">2. We measure circuit depth </p> \n",
    "    \n",
    "<p style=\"font-size: 17px;\">\n",
    "In this example, we have a simple quantum circuit with only 2 qubits and a <strong> depth of 3</strong>. <br>We apply a Hadamard gate h to the first qubit, and then a controlled-X gate cx to entangle the qubits. Finally, we measure the second qubit and store the result in a classical bit. </p> "
   ]
  },
  {
   "cell_type": "code",
   "execution_count": 14,
   "id": "6367b2e8-6526-4c67-9eb7-d63a2e19467c",
   "metadata": {
    "nbgrader": {
     "grade": false,
     "grade_id": "cell-1a3cf381d3e263b0",
     "locked": true,
     "schema_version": 3,
     "solution": false,
     "task": false
    }
   },
   "outputs": [
    {
     "data": {
      "text/plain": [
       "3"
      ]
     },
     "execution_count": 14,
     "metadata": {},
     "output_type": "execute_result"
    }
   ],
   "source": [
    "circuit.depth()"
   ]
  },
  {
   "cell_type": "markdown",
   "id": "744544ca-3395-4a94-a922-6c89e52ab80f",
   "metadata": {
    "nbgrader": {
     "grade": false,
     "grade_id": "cell-9e72ef6268bcaf55",
     "locked": true,
     "schema_version": 3,
     "solution": false,
     "task": false
    }
   },
   "source": [
    "\n",
    "\n",
    "<p style=\"font-size: 15px;\"><strong style=\"color: blue;\">3. Circuit with Increased Depth and Measurement </p> \n",
    "\n",
    "<p style=\"font-size: 17px;\">\n",
    "Now we will increase the circuit  by 1 qubit and add more operations. </p> "
   ]
  },
  {
   "cell_type": "code",
   "execution_count": 15,
   "id": "59d41e3f-bd01-4575-bb20-fef11fe57e8e",
   "metadata": {
    "nbgrader": {
     "grade": false,
     "grade_id": "cell-c5f8bac976a303c7",
     "locked": true,
     "schema_version": 3,
     "solution": false,
     "task": false
    }
   },
   "outputs": [
    {
     "data": {
      "text/html": [
       "<pre style=\"word-wrap: normal;white-space: pre;background: #fff0;line-height: 1.1;font-family: &quot;Courier New&quot;,Courier,monospace\">     ┌───┐           ░            ░              \n",
       "q_0: ┤ H ├──■────────░───■────────░───■──────────\n",
       "     └───┘┌─┴─┐      ░ ┌─┴─┐      ░ ┌─┴─┐        \n",
       "q_1: ─────┤ X ├──■───░─┤ X ├──■───░─┤ X ├──■─────\n",
       "          └───┘┌─┴─┐ ░ ├───┤┌─┴─┐ ░ ├───┤┌─┴─┐┌─┐\n",
       "q_2: ──────────┤ X ├─░─┤ H ├┤ X ├─░─┤ H ├┤ X ├┤M├\n",
       "               └───┘ ░ └───┘└───┘ ░ └───┘└───┘└╥┘\n",
       "c: 1/══════════════════════════════════════════╩═\n",
       "                                               0 </pre>"
      ],
      "text/plain": [
       "     ┌───┐           ░            ░              \n",
       "q_0: ┤ H ├──■────────░───■────────░───■──────────\n",
       "     └───┘┌─┴─┐      ░ ┌─┴─┐      ░ ┌─┴─┐        \n",
       "q_1: ─────┤ X ├──■───░─┤ X ├──■───░─┤ X ├──■─────\n",
       "          └───┘┌─┴─┐ ░ ├───┤┌─┴─┐ ░ ├───┤┌─┴─┐┌─┐\n",
       "q_2: ──────────┤ X ├─░─┤ H ├┤ X ├─░─┤ H ├┤ X ├┤M├\n",
       "               └───┘ ░ └───┘└───┘ ░ └───┘└───┘└╥┘\n",
       "c: 1/══════════════════════════════════════════╩═\n",
       "                                               0 "
      ]
     },
     "execution_count": 15,
     "metadata": {},
     "output_type": "execute_result"
    }
   ],
   "source": [
    "from qiskit import QuantumCircuit\n",
    "\n",
    "# Create a quantum circuit with 3 qubits and 1 classical bit\n",
    "circuit = QuantumCircuit(3, 1)\n",
    "\n",
    "# Add gates to manipulate the qubits\n",
    "circuit.h(0)\n",
    "circuit.cx(0, 1)\n",
    "circuit.cx(1, 2)\n",
    "circuit.barrier()\n",
    "circuit.h(2)\n",
    "circuit.cx(0, 1)\n",
    "circuit.cx(1, 2)\n",
    "circuit.barrier()\n",
    "circuit.h(2)\n",
    "circuit.cx(0, 1)\n",
    "circuit.cx(1, 2)\n",
    "\n",
    "# Measure the qubits and store the result in a classical bit\n",
    "circuit.measure(2, 0)\n",
    "\n",
    "# Visualize the circuit\n",
    "circuit.draw()\n"
   ]
  },
  {
   "cell_type": "markdown",
   "id": "debcdbfa-d0e8-44f7-a555-b697e62ebe57",
   "metadata": {
    "nbgrader": {
     "grade": false,
     "grade_id": "cell-bf0245c41433a5f3",
     "locked": true,
     "schema_version": 3,
     "solution": false,
     "task": false
    }
   },
   "source": [
    "<p style=\"font-size: 15px;\"><strong style=\"color: blue;\">4. Measure the increased circuit depth </p> \n",
    "\n",
    "<p style=\"font-size: 17px;\">\n",
    "In this example, we have increased the depth of the circuit to 8. The first two layers represent the gates applied to manipulate the qubits, similar to the earlier example. The third| and fourth layers consist of barriers to visually separate the gates. The fifth and sixth layers repeat the set of gates, and the seventh layer consists of a barrier. The eighth layer includes the measurement operation.\n",
    "<p style=\"font-size: 17px;\">\n",
    "In both examples, the measurement step adds an additional layer, increasing the circuit depth. It's important to consider the measurement operation while analyzing and understanding the depth of a circuit.\n",
    "\n",
    " </p> "
   ]
  },
  {
   "cell_type": "code",
   "execution_count": 16,
   "id": "a78ccef6-24f4-4192-a4a9-2abffedd897c",
   "metadata": {
    "nbgrader": {
     "grade": false,
     "grade_id": "cell-30ec23d7160ae0c1",
     "locked": true,
     "schema_version": 3,
     "solution": false,
     "task": false
    }
   },
   "outputs": [
    {
     "data": {
      "text/plain": [
       "8"
      ]
     },
     "execution_count": 16,
     "metadata": {},
     "output_type": "execute_result"
    }
   ],
   "source": [
    "circuit.depth()"
   ]
  },
  {
   "cell_type": "markdown",
   "id": "ad46e497-bfe2-49da-bb0c-dc6b5287f52c",
   "metadata": {
    "nbgrader": {
     "grade": false,
     "grade_id": "cell-a1757880ef679fbf",
     "locked": true,
     "schema_version": 3,
     "solution": false,
     "task": false
    }
   },
   "source": [
    "\n",
    "<p style=\"font-size: 20px;\" ><strong style=\"color: blue;\">Task 5.3: Measure the circuit depth of</strong> Write the answer in variable circuit1_depth</p>\n",
    "\n",
    "\n",
    "<p style=\"font-size: 17px;\"><strong style=\"color: blue;\">YOUR TURN: Task 5.3.1</strong>:  Measure the circuit depth of circuit1 in Task 5.1 and store the result in variable<strong> circuit1_depth</strong></strong> \n"
   ]
  },
  {
   "cell_type": "code",
   "execution_count": 17,
   "id": "d690e05d-160c-44e1-bb3d-e10b7ee02dce",
   "metadata": {
    "nbgrader": {
     "grade": false,
     "grade_id": "cell-101e80fc2f756b61",
     "locked": false,
     "schema_version": 3,
     "solution": true,
     "task": false
    }
   },
   "outputs": [],
   "source": [
    "circuit1_depth = 7 ### YOUR ANSWER  HERE|"
   ]
  },
  {
   "cell_type": "code",
   "execution_count": 18,
   "id": "8fcc83ca-c23e-4774-9ab7-f326d274e74b",
   "metadata": {
    "nbgrader": {
     "grade": true,
     "grade_id": "cell-73170f1a6428f6ec",
     "locked": true,
     "points": 0,
     "schema_version": 3,
     "solution": false,
     "task": false
    }
   },
   "outputs": [
    {
     "name": "stdout",
     "output_type": "stream",
     "text": [
      "Yayy🥳🥳! You scored 1/1 points\n"
     ]
    }
   ],
   "source": [
    "#Test - Dont change anything here\n",
    "assert circuit1_depth == circuit1.depth()\n",
    "\n",
    "if circuit1_depth == circuit1.depth():\n",
    "    points+=1\n",
    "    print(\"Yayy🥳🥳! You scored 1/1 points\")\n"
   ]
  },
  {
   "cell_type": "markdown",
   "id": "510f6851-fac9-4918-bf0c-640a19cbdf1e",
   "metadata": {
    "nbgrader": {
     "grade": false,
     "grade_id": "cell-99b3a1bc99eef84c",
     "locked": true,
     "schema_version": 3,
     "solution": false,
     "task": false
    }
   },
   "source": [
    "<p style=\"font-size: 17px;\"><strong style=\"color: blue;\">YOUR TURN: Task 5.3.2</strong>:  Measure the circuit depth of circuit2 in Task 5.2 and store the result in variable<strong> circuit2_depth</strong></strong> "
   ]
  },
  {
   "cell_type": "code",
   "execution_count": 19,
   "id": "ab9ae0b7-1266-427b-9e68-3de0011aebf3",
   "metadata": {
    "nbgrader": {
     "grade": false,
     "grade_id": "cell-99e13fd6641d3ca8",
     "locked": false,
     "schema_version": 3,
     "solution": true,
     "task": false
    }
   },
   "outputs": [],
   "source": [
    "circuit2_depth = 11 ### YOUR ANSWER  HERE"
   ]
  },
  {
   "cell_type": "code",
   "execution_count": 20,
   "id": "7c45cd67-7dd7-416d-964e-4edfe097e283",
   "metadata": {
    "nbgrader": {
     "grade": true,
     "grade_id": "cell-396fc1405b88c7d1",
     "locked": true,
     "points": 0,
     "schema_version": 3,
     "solution": false,
     "task": false
    }
   },
   "outputs": [
    {
     "name": "stdout",
     "output_type": "stream",
     "text": [
      "Yayy🥳🥳! You scored 1/1 points\n"
     ]
    }
   ],
   "source": [
    "#Test - Dont change anything here\n",
    "assert circuit2_depth == circuit2.depth()\n",
    "if circuit2_depth == circuit2.depth():\n",
    "    points+=1\n",
    "    print(\"Yayy🥳🥳! You scored 1/1 points\")"
   ]
  },
  {
   "cell_type": "markdown",
   "id": "b0151f94-874d-4c6d-b8d5-ed44b7fa3a45",
   "metadata": {
    "nbgrader": {
     "grade": false,
     "grade_id": "cell-6b6acb16c2f9d495",
     "locked": true,
     "schema_version": 3,
     "solution": false,
     "task": false
    }
   },
   "source": [
    "<h2 style=\"font-size: 30px;\"><span style=\"font-family: cursive;\"><strong style=\"color: red;\">Chapter 6:</strong> GHZ States (Greenberger-Horne-Zeilinger States)</h2></span>\n"
   ]
  },
  {
   "cell_type": "markdown",
   "id": "0c354f92-957e-4664-9c06-5810911c4844",
   "metadata": {
    "nbgrader": {
     "grade": false,
     "grade_id": "cell-209d3b1063acb27f",
     "locked": true,
     "schema_version": 3,
     "solution": false,
     "task": false
    }
   },
   "source": [
    "\n",
    "<h3 style=\"font-size: 22px;\"><strong style=\"color: red;\"> Exercise 1: Exploring GHZ States</strong> </h3>\n",
    "\n",
    "## GHZ States (Greenberger-Horne-Zeilinger States)\n",
    "\n",
    "<p style=\"font-size: 17px;\">\n",
    "GHZ states, short for Greenberger-Horne-Zeilinger states, are a class of quantum entangled states that exhibit intricate correlations among multiple quantum particles. They are named after the physicists Daniel Greenberger, Michael Horne, and Anton Zeilinger, who introduced the concept.</p>\n",
    "<p style=\"font-size: 17px;\">\n",
    "GHZ states represent a unique form of multipartite <strong>entanglement</strong> , often involving a set of qubits (quantum bits). The canonical GHZ state for \\(n\\) qubits is defined as:</p>\n",
    "\n",
    "$$|\\text{GHZ}\\rangle = \\frac{1}{\\sqrt{2}} (|0\\ldots0\\rangle + |1\\ldots1\\rangle)$$\n",
    "\n",
    "\n",
    "\n",
    "<div style=\"text-align: center;\">\n",
    "  <img src=\"https://drive.google.com/uc?id=10WD0s9bLVbSRH2U_iutx-uT_4V-8WTUY\" alt=\"drawing\" width=\"500\"/>\n",
    "</div>\n",
    "\n",
    "\n",
    "<p style=\"font-size: 17px;\">\n",
    "In this state, all qubits are in a superposition of both the 0 and 1 states, resulting in an intriguing quantum correlation where all qubits are simultaneously in a state of |0⟩ or |1⟩.</p>\n",
    "\n",
    "<p style=\"font-size: 17px;\">\n",
    "Key Features and Significance: </p>\n",
    "\n",
    "<p style=\"font-size: 17px;\">\n",
    "1. <strong>Quantum Entanglement:</strong> GHZ states exemplify the concept of quantum entanglement, where the properties of the individual qubits become correlated in such a way that measuring one qubit instantaneously determines the state of the others, regardless of the spatial separation.</p>\n",
    "\n",
    "<p style=\"font-size: 17px;\">\n",
    "2. <strong>Bell Test Experiments:</strong> GHZ states have played a pivotal role in the development of quantum mechanics and the testing of Bell's inequalities, providing strong evidence against classical hidden-variable theories and supporting the concept of quantum non-locality.</p>\n",
    "    \n",
    "<p style=\"font-size: 17px;\">\n",
    "3. <strong>Quantum Information Processing:</strong> GHZ states are essential in quantum computing and quantum information processing, as they form the basis for various quantum algorithms and quantum error correction codes.</p>\n",
    "<p style=\"font-size: 17px;\">\n",
    "4. <strong>Foundational to Quantum Physics:</strong> The study of GHZ states is foundational to understanding the fundamental principles of quantum physics and the nature of quantum superposition and entanglement.</p>\n",
    "\n",
    "<p style=\"font-size: 17px;\">\n",
    "GHZ states represent a fascinating aspect of quantum mechanics, demonstrating the counterintuitive and mysterious behavior of quantum systems. Their properties have profound implications for both fundamental physics and practical applications in quantum technology.\n",
    "</p>\n",
    "\n",
    "\n",
    "<div style=\"text-align: center;\">\n",
    "  <img src=\"https://drive.google.com/uc?id=1c_1_ettZfz-yjyAQOECs18kuOeAi-75b\" alt=\"drawing\" width=\"500\"/>\n",
    "</div>\n"
   ]
  },
  {
   "cell_type": "markdown",
   "id": "2ced0481-8468-478f-916e-80211ba6509d",
   "metadata": {
    "nbgrader": {
     "grade": false,
     "grade_id": "cell-deb805983131a935",
     "locked": true,
     "schema_version": 3,
     "solution": false,
     "task": false
    }
   },
   "source": [
    "\n",
    "<p style=\"font-size: 20px;\" ><strong style=\"color: blue;\">Task 6.1: Create GHZ-State for 2 qubits\n"
   ]
  },
  {
   "cell_type": "markdown",
   "id": "27d59962-c7c5-47fa-b60c-a8be212b3ab3",
   "metadata": {
    "nbgrader": {
     "grade": false,
     "grade_id": "cell-edd23b654cc67808",
     "locked": true,
     "schema_version": 3,
     "solution": false,
     "task": false
    }
   },
   "source": [
    "<p style=\"font-size: 17px;\"><strong style=\"color: blue;\">YOUR TURN: Task 6.1.1</strong>: <strong>1. Create quantum circuit.</strong> For a 2-qubit GHZ state we need a circuit with 2 qubits. Create a circuit named <strong>ghz_circuit_2</strong> \n",
    "    with 2 qubits"
   ]
  },
  {
   "cell_type": "code",
   "execution_count": 21,
   "id": "81df0586-5b16-4c0f-80f7-0e6640e880da",
   "metadata": {
    "nbgrader": {
     "grade": false,
     "grade_id": "cell-5ae959428f3a4f71",
     "locked": false,
     "schema_version": 3,
     "solution": true,
     "task": false
    }
   },
   "outputs": [],
   "source": [
    "### YOUR CODE  HERE \n",
    "ghz_circuit_2 = QuantumCircuit(2) "
   ]
  },
  {
   "cell_type": "code",
   "execution_count": 22,
   "id": "3572fea1-9ebc-4b5d-ba9a-fe65377d1e89",
   "metadata": {
    "nbgrader": {
     "grade": true,
     "grade_id": "cell-e30be81700880896",
     "locked": true,
     "points": 0,
     "schema_version": 3,
     "solution": false,
     "task": false
    }
   },
   "outputs": [
    {
     "name": "stdout",
     "output_type": "stream",
     "text": [
      "Yayy🥳🥳! You scored 1/1 points\n"
     ]
    }
   ],
   "source": [
    "#Test - Dont change anything here\n",
    "assert isinstance(ghz_circuit_2, QuantumCircuit), \"ghz_circuit_2 should be a QuantumCircuit\"\n",
    "if isinstance(ghz_circuit_2, QuantumCircuit):\n",
    "    points += 1\n",
    "    print(\"Yayy🥳🥳! You scored 1/1 points\")"
   ]
  },
  {
   "cell_type": "markdown",
   "id": "c13170d8-aaa2-4b41-b52e-dc37e981cba1",
   "metadata": {
    "nbgrader": {
     "grade": false,
     "grade_id": "cell-63ef1e3f9d4e3e2b",
     "locked": true,
     "schema_version": 3,
     "solution": false,
     "task": false
    }
   },
   "source": [
    "<p style=\"font-size: 17px;\"><strong style=\"color: blue;\">YOUR TURN: Task 6.1.2</strong>:<strong> 2. Apply the gates</strong> For a 2-qubit GHZ state we need to apply Hadamard Gate on 1st Qubit in state |0>, and  C-Not Gate on 2nd Qubit, using the 1st Qubit as Control Bit."
   ]
  },
  {
   "cell_type": "code",
   "execution_count": 23,
   "id": "fe61a407-d41b-4d37-9c05-96adaed7e178",
   "metadata": {
    "nbgrader": {
     "grade": false,
     "grade_id": "cell-adbf4c6f62e275fd",
     "locked": false,
     "schema_version": 3,
     "solution": true,
     "task": false
    }
   },
   "outputs": [],
   "source": [
    "\n",
    "### YOUR CODE STARTS HERE\n",
    "def ghz_1(ghz_circuit_2):\n",
    "    ghz_circuit_2.h(0)\n",
    "    ghz_circuit_2.cx(0,1)\n",
    "\n",
    "### YOUR CODE ENDS HERE\n"
   ]
  },
  {
   "cell_type": "code",
   "execution_count": 24,
   "id": "353047bf-bd1d-491a-8bfd-c0cec3182ec8",
   "metadata": {
    "nbgrader": {
     "grade": true,
     "grade_id": "cell-6e6fb91755436934",
     "locked": true,
     "points": 0,
     "schema_version": 3,
     "solution": false,
     "task": false
    }
   },
   "outputs": [
    {
     "name": "stdout",
     "output_type": "stream",
     "text": [
      "Yayy🥳🥳! You scored 2/2 points\n"
     ]
    }
   ],
   "source": [
    "#Test - Dont change anything here\n",
    "ghz_1(ghz_circuit_2)\n",
    "backend = Aer.get_backend('statevector_simulator')\n",
    "job = backend.run(ghz_circuit_2)\n",
    "result = job.result()\n",
    "outputstate = result.get_statevector(ghz_circuit_2, decimals=4)\n",
    "\n",
    "assert np.allclose([1./np.sqrt(2.), 0., 0., 1./np.sqrt(2.)], outputstate.data)\n",
    "\n",
    "if np.allclose([1./np.sqrt(2.), 0., 0., 1./np.sqrt(2.)], outputstate.data):\n",
    "    points += 2\n",
    "    print(\"Yayy🥳🥳! You scored 2/2 points\")\n",
    "    "
   ]
  },
  {
   "cell_type": "markdown",
   "id": "5870e5e4-6a79-4c60-b5d7-7caa4494f902",
   "metadata": {
    "nbgrader": {
     "grade": false,
     "grade_id": "cell-7db1d2f49f15add9",
     "locked": true,
     "schema_version": 3,
     "solution": false,
     "task": false
    }
   },
   "source": [
    "<p style=\"font-size: 17px;\"><strong style=\"color: blue;\">OUR TURN</strong>: <strong> 3. Now we draw the circuit</strong>"
   ]
  },
  {
   "cell_type": "code",
   "execution_count": 25,
   "id": "e8969c7b-5556-40ac-b770-a059f12001ef",
   "metadata": {
    "nbgrader": {
     "grade": false,
     "grade_id": "cell-090d526941b9f802",
     "locked": true,
     "schema_version": 3,
     "solution": false,
     "task": false
    }
   },
   "outputs": [
    {
     "data": {
      "text/html": [
       "<pre style=\"word-wrap: normal;white-space: pre;background: #fff0;line-height: 1.1;font-family: &quot;Courier New&quot;,Courier,monospace\">     ┌───┐     \n",
       "q_0: ┤ H ├──■──\n",
       "     └───┘┌─┴─┐\n",
       "q_1: ─────┤ X ├\n",
       "          └───┘</pre>"
      ],
      "text/plain": [
       "     ┌───┐     \n",
       "q_0: ┤ H ├──■──\n",
       "     └───┘┌─┴─┐\n",
       "q_1: ─────┤ X ├\n",
       "          └───┘"
      ]
     },
     "execution_count": 25,
     "metadata": {},
     "output_type": "execute_result"
    }
   ],
   "source": [
    "ghz_circuit_2.draw()"
   ]
  },
  {
   "cell_type": "markdown",
   "id": "6cf18797-61d6-4686-a4e0-8e2f78fe9c0b",
   "metadata": {
    "nbgrader": {
     "grade": false,
     "grade_id": "cell-1a44683110cf271b",
     "locked": true,
     "schema_version": 3,
     "solution": false,
     "task": false
    }
   },
   "source": [
    "<p style=\"font-size: 17px;\"><strong style=\"color: blue;\">OUR TURN</strong>:<strong> 4. Next we get the statevector.</strong>  This simulator calculates the statevector at each step of the circuit's evolution, allowing you to examine the state of the quantum system after applying various quantum gates."
   ]
  },
  {
   "cell_type": "code",
   "execution_count": 26,
   "id": "cf60dce5-da8b-416c-81d5-8c4ed16690aa",
   "metadata": {
    "nbgrader": {
     "grade": false,
     "grade_id": "cell-99d5cc64a9e6f7fe",
     "locked": true,
     "schema_version": 3,
     "solution": false,
     "task": false
    }
   },
   "outputs": [
    {
     "data": {
      "text/latex": [
       "$$\\frac{\\sqrt{2}}{2} |00\\rangle+\\frac{\\sqrt{2}}{2} |11\\rangle$$"
      ],
      "text/plain": [
       "<IPython.core.display.Latex object>"
      ]
     },
     "execution_count": 26,
     "metadata": {},
     "output_type": "execute_result"
    }
   ],
   "source": [
    "\n",
    "from qiskit.quantum_info import Statevector\n",
    "\n",
    "state = Statevector.from_int(0, 2**2)\n",
    "state = state.evolve(ghz_circuit_2)\n",
    "\n",
    "state.draw('latex')"
   ]
  },
  {
   "cell_type": "markdown",
   "id": "ceaa0826-97a0-408e-ab63-08974288ec36",
   "metadata": {
    "nbgrader": {
     "grade": false,
     "grade_id": "cell-d3c4b33f5d690a88",
     "locked": true,
     "schema_version": 3,
     "solution": false,
     "task": false
    }
   },
   "source": [
    "<p style=\"font-size: 17px;\"><strong style=\"color: blue;\">OUR TURN</strong>:<strong> 5. Measuring the qubits</strong>  This ensures that the quantum states are projected onto the computational basis, allowing you to obtain measurement outcomes."
   ]
  },
  {
   "cell_type": "code",
   "execution_count": 27,
   "id": "46380136-5269-48f0-9d3a-3e2efb33d127",
   "metadata": {
    "nbgrader": {
     "grade": false,
     "grade_id": "cell-2be0d1f242584a6e",
     "locked": true,
     "schema_version": 3,
     "solution": false,
     "task": false
    }
   },
   "outputs": [],
   "source": [
    "# Measure qubit 0 and qubit 1, and store the results in classical bits 0 and 1, respectively\n",
    "ghz_circuit_2.measure_all()"
   ]
  },
  {
   "cell_type": "code",
   "execution_count": 28,
   "id": "62da5742-a389-401e-a2ea-bd0602d16a29",
   "metadata": {
    "nbgrader": {
     "grade": false,
     "grade_id": "cell-63a1e93bc21f219b",
     "locked": true,
     "schema_version": 3,
     "solution": false,
     "task": false
    }
   },
   "outputs": [
    {
     "data": {
      "text/plain": [
       "{'00': 521, '11': 503}"
      ]
     },
     "execution_count": 28,
     "metadata": {},
     "output_type": "execute_result"
    }
   ],
   "source": [
    "from qiskit import Aer\n",
    "\n",
    "backend = Aer.get_backend('qasm_simulator')\n",
    "job = backend.run(ghz_circuit_2, shots=1024)\n",
    "job.result().get_counts(ghz_circuit_2)"
   ]
  },
  {
   "cell_type": "code",
   "execution_count": 29,
   "id": "fcb9fe34-3834-4b4d-890f-9bcc15f160f3",
   "metadata": {
    "nbgrader": {
     "grade": false,
     "grade_id": "cell-66f829ce2090ab48",
     "locked": true,
     "schema_version": 3,
     "solution": false,
     "task": false
    }
   },
   "outputs": [
    {
     "data": {
      "text/html": [
       "<pre style=\"word-wrap: normal;white-space: pre;background: #fff0;line-height: 1.1;font-family: &quot;Courier New&quot;,Courier,monospace\">        ┌───┐      ░ ┌─┐   \n",
       "   q_0: ┤ H ├──■───░─┤M├───\n",
       "        └───┘┌─┴─┐ ░ └╥┘┌─┐\n",
       "   q_1: ─────┤ X ├─░──╫─┤M├\n",
       "             └───┘ ░  ║ └╥┘\n",
       "meas: 2/══════════════╩══╩═\n",
       "                      0  1 </pre>"
      ],
      "text/plain": [
       "        ┌───┐      ░ ┌─┐   \n",
       "   q_0: ┤ H ├──■───░─┤M├───\n",
       "        └───┘┌─┴─┐ ░ └╥┘┌─┐\n",
       "   q_1: ─────┤ X ├─░──╫─┤M├\n",
       "             └───┘ ░  ║ └╥┘\n",
       "meas: 2/══════════════╩══╩═\n",
       "                      0  1 "
      ]
     },
     "execution_count": 29,
     "metadata": {},
     "output_type": "execute_result"
    }
   ],
   "source": [
    "ghz_circuit_2.draw()"
   ]
  },
  {
   "cell_type": "markdown",
   "id": "92e2dd78-65cd-43b2-88a6-be69e85c2a0d",
   "metadata": {
    "nbgrader": {
     "grade": false,
     "grade_id": "cell-c002d3cbe0dc2f50",
     "locked": true,
     "schema_version": 3,
     "solution": false,
     "task": false
    }
   },
   "source": [
    "<p style=\"font-size: 17px;\">\n",
    "The results indicate that out of the 1024 shots (or executions) of the quantum circuit, there were a total of 508 measurements in the '00' state (both qubits are in the state 0) and 516 measurements in the '11' state (both qubits are in the state 1).\n",
    "<p style=\"font-size: 17px;\">\n",
    "This suggests that the quantum circuit has a roughly equal probability of producing the '00' state and the '11' state. The actual distribution of the results may vary slightly due to the stochastic nature of quantum measurements. </p>"
   ]
  },
  {
   "cell_type": "markdown",
   "id": "a23e30d3-27c0-478f-ab71-1c5e91544404",
   "metadata": {
    "nbgrader": {
     "grade": false,
     "grade_id": "cell-4388d9fc1af97027",
     "locked": true,
     "schema_version": 3,
     "solution": false,
     "task": false
    }
   },
   "source": [
    "\n",
    "<p style=\"font-size: 20px;\" ><strong style=\"color: blue;\">Task 6.2: Create GHZ-State for 3 qubits\n"
   ]
  },
  {
   "cell_type": "markdown",
   "id": "3718df4e-e032-477e-bba6-7e2986acac40",
   "metadata": {
    "nbgrader": {
     "grade": false,
     "grade_id": "cell-ff936ea1d5a54e75",
     "locked": true,
     "schema_version": 3,
     "solution": false,
     "task": false
    }
   },
   "source": [
    "<p style=\"font-size: 17px;\"><strong style=\"color: blue;\">YOUR TURN: Task 6.2.1</strong>: <strong>1. Create quantum circuit.</strong> For a 3-qubit GHZ state we need a circuit with 3 qubits. Create a circuit named <strong>ghz_circuit_3</strong> \n",
    "    with 3 qubits"
   ]
  },
  {
   "cell_type": "code",
   "execution_count": 30,
   "id": "2ee246b1-63ba-46cb-8c56-43a5a1084264",
   "metadata": {
    "nbgrader": {
     "grade": false,
     "grade_id": "cell-8ddeacadeb7fec70",
     "locked": false,
     "schema_version": 3,
     "solution": true,
     "task": false
    }
   },
   "outputs": [],
   "source": [
    "# Create a quantum circuit for a 3-qubit GHZ state\n",
    "#YOUR CODE HERE\n",
    "ghz_circuit_3 = QuantumCircuit(3)\n"
   ]
  },
  {
   "cell_type": "code",
   "execution_count": 31,
   "id": "a00b2386-d669-4f05-aa82-21d7437e71c5",
   "metadata": {
    "nbgrader": {
     "grade": true,
     "grade_id": "cell-426b2437cfc0640e",
     "locked": true,
     "points": 0,
     "schema_version": 3,
     "solution": false,
     "task": false
    }
   },
   "outputs": [
    {
     "name": "stdout",
     "output_type": "stream",
     "text": [
      "Yayy🥳🥳! You scored 1/1 points\n"
     ]
    }
   ],
   "source": [
    "#Test - Dont change anything here\n",
    "assert isinstance(ghz_circuit_3, QuantumCircuit), \"ghz_circuit_3 should be a QuantumCircuit\"\n",
    "\n",
    "if isinstance(ghz_circuit_3, QuantumCircuit):\n",
    "    points += 1\n",
    "    print(\"Yayy🥳🥳! You scored 1/1 points\")\n",
    "    "
   ]
  },
  {
   "cell_type": "markdown",
   "id": "9ec3c4e8-72cd-456b-9de2-ca31a8624d0c",
   "metadata": {
    "nbgrader": {
     "grade": false,
     "grade_id": "cell-0192a0677bf749fb",
     "locked": true,
     "schema_version": 3,
     "solution": false,
     "task": false
    }
   },
   "source": [
    "\n",
    "<p style=\"font-size: 17px;\"><strong style=\"color: blue;\">YOUR TURN: Task 6.2.2</strong>:<strong> 2. Apply the gates</strong> For a 3 qubit GHZ state, we need to apply Hadamard Gate on 1st Qubit in state |0>, and  C-Not Gate on 1st Qubit, using 2nd Qubit as Control Bit and C-Not Gate in 1st Qubit, using 3rd Qubit as Control Bit\n"
   ]
  },
  {
   "cell_type": "code",
   "execution_count": 32,
   "id": "97c4e424-b55d-47c4-803d-373007d704a7",
   "metadata": {
    "nbgrader": {
     "grade": false,
     "grade_id": "cell-e086eef2c243be66",
     "locked": false,
     "schema_version": 3,
     "solution": true,
     "task": false
    }
   },
   "outputs": [],
   "source": [
    "def ghz_2(ghz_circuit_3):\n",
    "    # Apply a Hadamard gate to the first qubit\n",
    "    ghz_circuit_3.h(0)\n",
    "    # Apply controlled-X gates (CNOT) to create the GHZ state\n",
    "    ghz_circuit_3.cx(0, 1)\n",
    "    ghz_circuit_3.cx(0, 2)\n",
    "    \n",
    "ghz_2(ghz_circuit_3)\n"
   ]
  },
  {
   "cell_type": "code",
   "execution_count": 33,
   "id": "e388686d-dcd4-4d8a-8fb2-a939df53cca5",
   "metadata": {
    "nbgrader": {
     "grade": true,
     "grade_id": "cell-ea4652fe547fa5fd",
     "locked": true,
     "points": 0,
     "schema_version": 3,
     "solution": false,
     "task": false
    }
   },
   "outputs": [
    {
     "name": "stdout",
     "output_type": "stream",
     "text": [
      "Yayy🥳🥳! You scored 2/2 points\n"
     ]
    }
   ],
   "source": [
    "#Test - Dont change anything here\n",
    "\n",
    "backend = Aer.get_backend('statevector_simulator')\n",
    "job = backend.run(ghz_circuit_3)\n",
    "result = job.result()\n",
    "outputstate = result.get_statevector(ghz_circuit_3, decimals=4)\n",
    "\n",
    "expected_state = [0.,]*2**3\n",
    "expected_state[0] = 1./np.sqrt(2.)\n",
    "expected_state[-1] = 1./np.sqrt(2.)\n",
    "\n",
    "assert np.allclose(expected_state, outputstate.data)\n",
    "\n",
    "if np.allclose(expected_state, outputstate.data):\n",
    "    points+=2\n",
    "    print(\"Yayy🥳🥳! You scored 2/2 points\")"
   ]
  },
  {
   "cell_type": "markdown",
   "id": "62c4adcc-e1d4-4f0d-a26d-13ac36b477b5",
   "metadata": {
    "nbgrader": {
     "grade": false,
     "grade_id": "cell-55b0bbf18d3c3c7c",
     "locked": true,
     "schema_version": 3,
     "solution": false,
     "task": false
    }
   },
   "source": [
    "<p style=\"font-size: 17px;\"><strong style=\"color: blue;\">OUR TURN</strong>: <strong> 3. Now we draw the circuit</strong>"
   ]
  },
  {
   "cell_type": "code",
   "execution_count": 34,
   "id": "a1af51b9-9f0c-4897-ae47-4185b787ee96",
   "metadata": {
    "nbgrader": {
     "grade": false,
     "grade_id": "cell-226b72fc94fcaa4c",
     "locked": true,
     "schema_version": 3,
     "solution": false,
     "task": false
    }
   },
   "outputs": [
    {
     "data": {
      "text/html": [
       "<pre style=\"word-wrap: normal;white-space: pre;background: #fff0;line-height: 1.1;font-family: &quot;Courier New&quot;,Courier,monospace\">     ┌───┐          \n",
       "q_0: ┤ H ├──■────■──\n",
       "     └───┘┌─┴─┐  │  \n",
       "q_1: ─────┤ X ├──┼──\n",
       "          └───┘┌─┴─┐\n",
       "q_2: ──────────┤ X ├\n",
       "               └───┘</pre>"
      ],
      "text/plain": [
       "     ┌───┐          \n",
       "q_0: ┤ H ├──■────■──\n",
       "     └───┘┌─┴─┐  │  \n",
       "q_1: ─────┤ X ├──┼──\n",
       "          └───┘┌─┴─┐\n",
       "q_2: ──────────┤ X ├\n",
       "               └───┘"
      ]
     },
     "execution_count": 34,
     "metadata": {},
     "output_type": "execute_result"
    }
   ],
   "source": [
    "ghz_circuit_3.draw()"
   ]
  },
  {
   "cell_type": "markdown",
   "id": "dc348e39-d279-4d15-8004-1f7e8be0bc40",
   "metadata": {
    "nbgrader": {
     "grade": false,
     "grade_id": "cell-92383887988bb2a2",
     "locked": true,
     "schema_version": 3,
     "solution": false,
     "task": false
    }
   },
   "source": [
    "<p style=\"font-size: 17px;\"><strong style=\"color: blue;\">OUR TURN</strong>:<strong> 4. Next we get the statevector.</strong>  This simulator calculates the statevector at each step of the circuit's evolution, allowing you to examine the state of the quantum system after applying various quantum gates."
   ]
  },
  {
   "cell_type": "code",
   "execution_count": 35,
   "id": "fe7f3a90-604e-46b5-8f75-0741933a0de5",
   "metadata": {
    "nbgrader": {
     "grade": false,
     "grade_id": "cell-eef47492fa929971",
     "locked": true,
     "schema_version": 3,
     "solution": false,
     "task": false
    }
   },
   "outputs": [
    {
     "data": {
      "text/latex": [
       "$$\\frac{\\sqrt{2}}{2} |000\\rangle+\\frac{\\sqrt{2}}{2} |111\\rangle$$"
      ],
      "text/plain": [
       "<IPython.core.display.Latex object>"
      ]
     },
     "execution_count": 35,
     "metadata": {},
     "output_type": "execute_result"
    }
   ],
   "source": [
    "state = Statevector.from_int(0, 2**3)\n",
    "state = state.evolve(ghz_circuit_3)\n",
    "\n",
    "state.draw('latex')"
   ]
  },
  {
   "cell_type": "markdown",
   "id": "d63ebe25-67c1-421d-98d7-e4188281c758",
   "metadata": {
    "nbgrader": {
     "grade": false,
     "grade_id": "cell-e78b166f02ac8374",
     "locked": true,
     "schema_version": 3,
     "solution": false,
     "task": false
    }
   },
   "source": [
    "<p style=\"font-size: 17px;\"><strong style=\"color: blue;\">OUR TURN</strong>:<strong> 5. Measuring the qubits</strong>  This ensures that the quantum states are projected onto the computational basis, allowing you to obtain measurement outcomes."
   ]
  },
  {
   "cell_type": "code",
   "execution_count": 36,
   "id": "b90b56ca-e4ad-4a55-8a3d-f74759cc663d",
   "metadata": {
    "nbgrader": {
     "grade": false,
     "grade_id": "cell-cbad9a9b391aba78",
     "locked": true,
     "schema_version": 3,
     "solution": false,
     "task": false
    }
   },
   "outputs": [],
   "source": [
    "# Measure qubit 0, qubit 1, and qubit 2, and store the results in classical bits 0, 1, and 2, respectively\n",
    "ghz_circuit_3.measure_all()"
   ]
  },
  {
   "cell_type": "code",
   "execution_count": 37,
   "id": "51cc3098-dd0b-422e-a171-d44042699858",
   "metadata": {
    "nbgrader": {
     "grade": false,
     "grade_id": "cell-e920d5400aa0d075",
     "locked": true,
     "schema_version": 3,
     "solution": false,
     "task": false
    }
   },
   "outputs": [
    {
     "data": {
      "text/plain": [
       "{'000': 514, '111': 510}"
      ]
     },
     "execution_count": 37,
     "metadata": {},
     "output_type": "execute_result"
    }
   ],
   "source": [
    "from qiskit import Aer\n",
    "\n",
    "backend = Aer.get_backend('qasm_simulator')\n",
    "job = backend.run(ghz_circuit_3, shots=1024)\n",
    "job.result().get_counts(ghz_circuit_3)"
   ]
  },
  {
   "cell_type": "code",
   "execution_count": 38,
   "id": "4f65dac7-4202-4962-804d-c174b9bd3c70",
   "metadata": {
    "nbgrader": {
     "grade": false,
     "grade_id": "cell-e22a89aaa2d9a6f6",
     "locked": true,
     "schema_version": 3,
     "solution": false,
     "task": false
    }
   },
   "outputs": [
    {
     "data": {
      "text/html": [
       "<pre style=\"word-wrap: normal;white-space: pre;background: #fff0;line-height: 1.1;font-family: &quot;Courier New&quot;,Courier,monospace\">        ┌───┐           ░ ┌─┐      \n",
       "   q_0: ┤ H ├──■────■───░─┤M├──────\n",
       "        └───┘┌─┴─┐  │   ░ └╥┘┌─┐   \n",
       "   q_1: ─────┤ X ├──┼───░──╫─┤M├───\n",
       "             └───┘┌─┴─┐ ░  ║ └╥┘┌─┐\n",
       "   q_2: ──────────┤ X ├─░──╫──╫─┤M├\n",
       "                  └───┘ ░  ║  ║ └╥┘\n",
       "meas: 3/═══════════════════╩══╩══╩═\n",
       "                           0  1  2 </pre>"
      ],
      "text/plain": [
       "        ┌───┐           ░ ┌─┐      \n",
       "   q_0: ┤ H ├──■────■───░─┤M├──────\n",
       "        └───┘┌─┴─┐  │   ░ └╥┘┌─┐   \n",
       "   q_1: ─────┤ X ├──┼───░──╫─┤M├───\n",
       "             └───┘┌─┴─┐ ░  ║ └╥┘┌─┐\n",
       "   q_2: ──────────┤ X ├─░──╫──╫─┤M├\n",
       "                  └───┘ ░  ║  ║ └╥┘\n",
       "meas: 3/═══════════════════╩══╩══╩═\n",
       "                           0  1  2 "
      ]
     },
     "execution_count": 38,
     "metadata": {},
     "output_type": "execute_result"
    }
   ],
   "source": [
    "ghz_circuit_3.draw()"
   ]
  },
  {
   "cell_type": "markdown",
   "id": "e26b8cff-d146-4a8f-99ef-ab37ede22ca1",
   "metadata": {
    "nbgrader": {
     "grade": false,
     "grade_id": "cell-485dad5dd6a70826",
     "locked": true,
     "schema_version": 3,
     "solution": false,
     "task": false
    }
   },
   "source": [
    "The measurement result suggests that the GHZ state generated by the quantum circuit has a slightly higher probability of being measured in the '000' state compared to the '111' state. However, the difference in counts can be attributed to statistical fluctuations."
   ]
  },
  {
   "cell_type": "markdown",
   "id": "9dd7e282-65c4-4ea5-b9cf-f87d90526d4e",
   "metadata": {},
   "source": [
    "\n",
    "<h2 style=\"font-size: 30px;\"><span style=\"font-family: cursive;\"><strong style=\"color: red;\">Congratulations!</strong> We hope you had a fun learning experience! </h2></span>\n",
    "\n",
    "<div style=\"text-align: center;\">\n",
    "  <img src=\"https://drive.google.com/uc?id=1nIUZBaqkKcsdjIBUozndHbbyHUVVFOUP\" alt=\"drawing\" width=\"500\"/>\n",
    "</div>\n"
   ]
  },
  {
   "cell_type": "code",
   "execution_count": 40,
   "id": "45d6f4eb-9d08-4bd4-be4c-82e2c422ca88",
   "metadata": {},
   "outputs": [
    {
     "name": "stdout",
     "output_type": "stream",
     "text": [
      "Your Score: 18 / 18\n",
      "Congratulations!\n"
     ]
    }
   ],
   "source": [
    "print(\"Your Score: {} / 18\".format(points))\n",
    "print(\"Congratulations!\")"
   ]
  },
  {
   "cell_type": "code",
   "execution_count": null,
   "id": "996d24cb-8f38-4896-8948-9b90581b8ef7",
   "metadata": {},
   "outputs": [],
   "source": []
  },
  {
   "cell_type": "code",
   "execution_count": null,
   "id": "87102481-11e3-487e-9843-52ce32ea752c",
   "metadata": {},
   "outputs": [],
   "source": []
  },
  {
   "cell_type": "code",
   "execution_count": null,
   "id": "92d94982-def6-4bd1-91b1-61a02b3ee43a",
   "metadata": {},
   "outputs": [],
   "source": []
  },
  {
   "cell_type": "code",
   "execution_count": null,
   "id": "38af6bb5-c8c8-459d-a1f9-69e5f47ac165",
   "metadata": {},
   "outputs": [],
   "source": []
  },
  {
   "cell_type": "code",
   "execution_count": null,
   "id": "1057add2-51f9-4220-bbdf-763716eeccb7",
   "metadata": {},
   "outputs": [],
   "source": []
  },
  {
   "cell_type": "code",
   "execution_count": null,
   "id": "a8ce6949-8484-4455-9a33-ac16f618af1e",
   "metadata": {},
   "outputs": [],
   "source": []
  },
  {
   "cell_type": "code",
   "execution_count": null,
   "id": "67189d75-708b-4fcc-acec-f84052ce1bba",
   "metadata": {},
   "outputs": [],
   "source": []
  }
 ],
 "metadata": {
  "kernelspec": {
   "display_name": "Python 3 (ipykernel)",
   "language": "python",
   "name": "python3"
  },
  "language_info": {
   "codemirror_mode": {
    "name": "ipython",
    "version": 3
   },
   "file_extension": ".py",
   "mimetype": "text/x-python",
   "name": "python",
   "nbconvert_exporter": "python",
   "pygments_lexer": "ipython3",
   "version": "3.11.5"
  }
 },
 "nbformat": 4,
 "nbformat_minor": 5
}
