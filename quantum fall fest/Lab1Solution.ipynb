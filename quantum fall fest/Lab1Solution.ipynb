{
 "cells": [
  {
   "cell_type": "markdown",
   "id": "74bded23-4267-4acc-8b01-b1e0e99fcf24",
   "metadata": {
    "nbgrader": {
     "grade": false,
     "grade_id": "cell-e240145ca337ab7b",
     "locked": true,
     "schema_version": 3,
     "solution": false,
     "task": false
    }
   },
   "source": [
    "# Welcome to Quantum Spy Training Part 1\n",
    "\n",
    "<h2 style=\"font-size: 30px;\"><span style=\"font-family: cursive;\"><strong style=\"color: red;\">Introduction</h2></span>\n",
    "\n",
    "\n",
    "<p style=\"font-size: 18px;\">Welcome to Quantum Spy Training! You have been recruited by a top-secret organization for your exceptional problem-solving skills. Your mission, should you choose to accept it, is to retrieve classified information from a highly secure facility using quantum technology. Your journey starts now!</p>"
   ]
  },
  {
   "cell_type": "markdown",
   "id": "3937708c-a930-40b6-9044-b1bee04735e7",
   "metadata": {
    "nbgrader": {
     "grade": false,
     "grade_id": "cell-a319721fc9a76265",
     "locked": true,
     "schema_version": 3,
     "solution": false,
     "task": false
    }
   },
   "source": [
    "<div style=\"text-align: center;\">\n",
    "  <img src=\"https://drive.google.com/uc?id=1m9dZivH3V5BZLx41pjIt5H8r5FkVE0F8\" width=\"600\"/>\n",
    "</div>"
   ]
  },
  {
   "cell_type": "markdown",
   "id": "bcb7490d-ab1d-4df5-a91c-e3409b49d9f7",
   "metadata": {
    "nbgrader": {
     "grade": false,
     "grade_id": "cell-1bdc3d368e5952ed",
     "locked": true,
     "schema_version": 3,
     "solution": false,
     "task": false
    }
   },
   "source": [
    "<h2 style=\"font-size: 30px;\"><span style=\"font-family: cursive;\"><strong style=\"color: red;\">Chapter 1:</strong> Getting started </h2></span>\n",
    "\n",
    "<h3 style=\"font-size: 23px;\"><strong style=\"color: red;\">Exercise 1: Setting Up Qiskit</strong> </h3>\n",
    "\n",
    "\n",
    "<p style=\"font-size: 17px;\"><strong style=\"color: blue;\">YOUR TURN: Task 1.1: </strong>Install Qiskit on your local machine and set up your development environment.</p>\n"
   ]
  },
  {
   "cell_type": "code",
   "execution_count": 1,
   "id": "a1a43028-19bf-4f96-9216-f589452d8392",
   "metadata": {
    "nbgrader": {
     "grade": false,
     "grade_id": "cell-c9af03a5d65f70da",
     "locked": true,
     "schema_version": 3,
     "solution": false,
     "task": false
    }
   },
   "outputs": [
    {
     "name": "stdout",
     "output_type": "stream",
     "text": [
      "Requirement already satisfied: qiskit in /Users/somyarathee/anaconda3/lib/python3.11/site-packages (0.44.2)\n",
      "Requirement already satisfied: qiskit-terra==0.25.2.1 in /Users/somyarathee/anaconda3/lib/python3.11/site-packages (from qiskit) (0.25.2.1)\n",
      "Requirement already satisfied: rustworkx>=0.13.0 in /Users/somyarathee/anaconda3/lib/python3.11/site-packages (from qiskit-terra==0.25.2.1->qiskit) (0.13.2)\n",
      "Requirement already satisfied: numpy>=1.17 in /Users/somyarathee/anaconda3/lib/python3.11/site-packages (from qiskit-terra==0.25.2.1->qiskit) (1.24.3)\n",
      "Requirement already satisfied: ply>=3.10 in /Users/somyarathee/anaconda3/lib/python3.11/site-packages (from qiskit-terra==0.25.2.1->qiskit) (3.11)\n",
      "Requirement already satisfied: psutil>=5 in /Users/somyarathee/anaconda3/lib/python3.11/site-packages (from qiskit-terra==0.25.2.1->qiskit) (5.9.0)\n",
      "Requirement already satisfied: scipy>=1.5 in /Users/somyarathee/anaconda3/lib/python3.11/site-packages (from qiskit-terra==0.25.2.1->qiskit) (1.11.1)\n",
      "Requirement already satisfied: sympy>=1.3 in /Users/somyarathee/anaconda3/lib/python3.11/site-packages (from qiskit-terra==0.25.2.1->qiskit) (1.11.1)\n",
      "Requirement already satisfied: dill>=0.3 in /Users/somyarathee/anaconda3/lib/python3.11/site-packages (from qiskit-terra==0.25.2.1->qiskit) (0.3.6)\n",
      "Requirement already satisfied: python-dateutil>=2.8.0 in /Users/somyarathee/anaconda3/lib/python3.11/site-packages (from qiskit-terra==0.25.2.1->qiskit) (2.8.2)\n",
      "Requirement already satisfied: stevedore>=3.0.0 in /Users/somyarathee/anaconda3/lib/python3.11/site-packages (from qiskit-terra==0.25.2.1->qiskit) (5.1.0)\n",
      "Requirement already satisfied: symengine<0.10,>=0.9 in /Users/somyarathee/anaconda3/lib/python3.11/site-packages (from qiskit-terra==0.25.2.1->qiskit) (0.9.2)\n",
      "Requirement already satisfied: six>=1.5 in /Users/somyarathee/anaconda3/lib/python3.11/site-packages (from python-dateutil>=2.8.0->qiskit-terra==0.25.2.1->qiskit) (1.16.0)\n",
      "Requirement already satisfied: pbr!=2.1.0,>=2.0.0 in /Users/somyarathee/anaconda3/lib/python3.11/site-packages (from stevedore>=3.0.0->qiskit-terra==0.25.2.1->qiskit) (5.11.1)\n",
      "Requirement already satisfied: mpmath>=0.19 in /Users/somyarathee/anaconda3/lib/python3.11/site-packages (from sympy>=1.3->qiskit-terra==0.25.2.1->qiskit) (1.3.0)\n",
      "Requirement already satisfied: qiskit-aer in /Users/somyarathee/anaconda3/lib/python3.11/site-packages (0.12.2)\n",
      "Requirement already satisfied: qiskit-terra>=0.21.0 in /Users/somyarathee/anaconda3/lib/python3.11/site-packages (from qiskit-aer) (0.25.2.1)\n",
      "Requirement already satisfied: numpy>=1.16.3 in /Users/somyarathee/anaconda3/lib/python3.11/site-packages (from qiskit-aer) (1.24.3)\n",
      "Requirement already satisfied: scipy>=1.0 in /Users/somyarathee/anaconda3/lib/python3.11/site-packages (from qiskit-aer) (1.11.1)\n",
      "Requirement already satisfied: rustworkx>=0.13.0 in /Users/somyarathee/anaconda3/lib/python3.11/site-packages (from qiskit-terra>=0.21.0->qiskit-aer) (0.13.2)\n",
      "Requirement already satisfied: ply>=3.10 in /Users/somyarathee/anaconda3/lib/python3.11/site-packages (from qiskit-terra>=0.21.0->qiskit-aer) (3.11)\n",
      "Requirement already satisfied: psutil>=5 in /Users/somyarathee/anaconda3/lib/python3.11/site-packages (from qiskit-terra>=0.21.0->qiskit-aer) (5.9.0)\n",
      "Requirement already satisfied: sympy>=1.3 in /Users/somyarathee/anaconda3/lib/python3.11/site-packages (from qiskit-terra>=0.21.0->qiskit-aer) (1.11.1)\n",
      "Requirement already satisfied: dill>=0.3 in /Users/somyarathee/anaconda3/lib/python3.11/site-packages (from qiskit-terra>=0.21.0->qiskit-aer) (0.3.6)\n",
      "Requirement already satisfied: python-dateutil>=2.8.0 in /Users/somyarathee/anaconda3/lib/python3.11/site-packages (from qiskit-terra>=0.21.0->qiskit-aer) (2.8.2)\n",
      "Requirement already satisfied: stevedore>=3.0.0 in /Users/somyarathee/anaconda3/lib/python3.11/site-packages (from qiskit-terra>=0.21.0->qiskit-aer) (5.1.0)\n",
      "Requirement already satisfied: symengine<0.10,>=0.9 in /Users/somyarathee/anaconda3/lib/python3.11/site-packages (from qiskit-terra>=0.21.0->qiskit-aer) (0.9.2)\n",
      "Requirement already satisfied: six>=1.5 in /Users/somyarathee/anaconda3/lib/python3.11/site-packages (from python-dateutil>=2.8.0->qiskit-terra>=0.21.0->qiskit-aer) (1.16.0)\n",
      "Requirement already satisfied: pbr!=2.1.0,>=2.0.0 in /Users/somyarathee/anaconda3/lib/python3.11/site-packages (from stevedore>=3.0.0->qiskit-terra>=0.21.0->qiskit-aer) (5.11.1)\n",
      "Requirement already satisfied: mpmath>=0.19 in /Users/somyarathee/anaconda3/lib/python3.11/site-packages (from sympy>=1.3->qiskit-terra>=0.21.0->qiskit-aer) (1.3.0)\n",
      "Requirement already satisfied: matplotlib in /Users/somyarathee/anaconda3/lib/python3.11/site-packages (3.7.2)\n",
      "Requirement already satisfied: contourpy>=1.0.1 in /Users/somyarathee/anaconda3/lib/python3.11/site-packages (from matplotlib) (1.0.5)\n",
      "Requirement already satisfied: cycler>=0.10 in /Users/somyarathee/anaconda3/lib/python3.11/site-packages (from matplotlib) (0.11.0)\n",
      "Requirement already satisfied: fonttools>=4.22.0 in /Users/somyarathee/anaconda3/lib/python3.11/site-packages (from matplotlib) (4.25.0)\n",
      "Requirement already satisfied: kiwisolver>=1.0.1 in /Users/somyarathee/anaconda3/lib/python3.11/site-packages (from matplotlib) (1.4.4)\n",
      "Requirement already satisfied: numpy>=1.20 in /Users/somyarathee/anaconda3/lib/python3.11/site-packages (from matplotlib) (1.24.3)\n",
      "Requirement already satisfied: packaging>=20.0 in /Users/somyarathee/anaconda3/lib/python3.11/site-packages (from matplotlib) (23.1)\n",
      "Requirement already satisfied: pillow>=6.2.0 in /Users/somyarathee/anaconda3/lib/python3.11/site-packages (from matplotlib) (9.4.0)\n",
      "Requirement already satisfied: pyparsing<3.1,>=2.3.1 in /Users/somyarathee/anaconda3/lib/python3.11/site-packages (from matplotlib) (3.0.9)\n",
      "Requirement already satisfied: python-dateutil>=2.7 in /Users/somyarathee/anaconda3/lib/python3.11/site-packages (from matplotlib) (2.8.2)\n",
      "Requirement already satisfied: six>=1.5 in /Users/somyarathee/anaconda3/lib/python3.11/site-packages (from python-dateutil>=2.7->matplotlib) (1.16.0)\n",
      "Requirement already satisfied: pylatexenc in /Users/somyarathee/anaconda3/lib/python3.11/site-packages (2.10)\n",
      "Requirement already satisfied: numpy in /Users/somyarathee/anaconda3/lib/python3.11/site-packages (1.24.3)\n",
      "Requirement already satisfied: tqdm in /Users/somyarathee/anaconda3/lib/python3.11/site-packages (4.65.0)\n"
     ]
    }
   ],
   "source": [
    "!pip install qiskit\n",
    "!pip install qiskit-aer\n",
    "!pip install matplotlib\n",
    "!pip install pylatexenc\n",
    "!pip install numpy\n",
    "!pip3 install tqdm"
   ]
  },
  {
   "cell_type": "code",
   "execution_count": 1,
   "id": "e26b97ca-866a-47dc-a765-b1656c5ed49e",
   "metadata": {
    "nbgrader": {
     "grade": false,
     "grade_id": "cell-15c0a5d9ca11dd09",
     "locked": true,
     "schema_version": 3,
     "solution": false,
     "task": false
    }
   },
   "outputs": [],
   "source": [
    "import numpy as np\n",
    "import matplotlib.pyplot as plt\n",
    "\n",
    "# Importing standard Qiskit libraries\n",
    "from qiskit import QuantumCircuit, QuantumRegister, transpile, Aer, IBMQ, execute\n",
    "from qiskit.tools.jupyter import *\n",
    "from qiskit.visualization import *\n",
    "#from ibm_quantum_widgets import *\n",
    "from qiskit.providers.aer import QasmSimulator\n",
    "from tqdm.notebook import tqdm\n",
    "\n",
    "from qiskit.providers.aer import QasmSimulator\n",
    "from qiskit.tools.monitor import job_monitor\n",
    "from qiskit.circuit import Parameter\n",
    "import qiskit.quantum_info as qi\n",
    "\n",
    "# Suppress warnings\n",
    "import warnings\n",
    "warnings.filterwarnings('ignore')\n",
    "\n",
    "import pylatexenc # Required to use 'MatplotlibDrawer'.\n",
    "import IPython\n",
    "\n",
    "from qiskit import QuantumCircuit, execute, Aer, IBMQ, QuantumRegister, ClassicalRegister\n",
    "from qiskit.visualization import plot_bloch_multivector\n",
    "\n",
    "points = 0"
   ]
  },
  {
   "cell_type": "markdown",
   "id": "d170047f-cbfb-4619-ac09-12dbccd39362",
   "metadata": {
    "nbgrader": {
     "grade": false,
     "grade_id": "cell-22d663b2ee744a94",
     "locked": true,
     "schema_version": 3,
     "solution": false,
     "task": false
    }
   },
   "source": [
    "<h2 style=\"font-size: 30px;\"><span style=\"font-family: cursive;\"><strong style=\"color: red;\"> Chapter 2: </strong>Unraveling the Quantum Secrets</span></h2>\n",
    "\n",
    "<h3 style=\"font-size: 20px;\">What is a qubit?</h3>\n",
    "<p style=\"font-size: 18px;\">A qubit is a physical object that obeys the laws of quantum mechanic and can be manipulated with quantum gates. Different qubit technologies exist (photons, ions, neutral atoms, superconducting josephson-junctions, topological qubits).</p>\n",
    "\n",
    "<p style=\"font-size: 18px;\">Qubits have two basic properties that make them special and different from ordinary bits:</p>\n",
    "<ol style=\"font-size: 18px;\">\n",
    "  <li><strong>Superposition</strong>: while classical bits can only obtain the values 0 or 1, qubits can obtain combined states. Qubit states are described by complex valued vectors</li>\n",
    "\n",
    "<br>\n",
    "<p style=\"font-size: 16px;\">$\\vert \\Psi \\rangle = \\begin{pmatrix}a\\\\b\\end{pmatrix}$</p>\n",
    "\n",
    "<p style=\"font-size: 18px;\">Be careful, qubits obtain these superposition states only during computation. However, to retrieve computation results, they must be measured and this will lead to the so called \"collapse of the wave-function\", i.e. only one of the states will manifest in the measurement.</p>\n",
    "<div style=\"text-align: center;\">\n",
    "  <img src=\"https://drive.google.com/uc?id=10Gf_H06VdBcyKl9Oyq1EF-_bWG9azeK5\" alt=\"drawing\" width=\"600\"/>\n",
    "\n",
    "</div>\n",
    "<br>\n",
    "  <li>\n",
    "      <strong>Entanglement</strong>: Entanglement is a phenomenon in quantum physics where two or more qubits become interconnected in such a way that their properties become correlated, even when they are physically separated. It is a unique characteristic of quantum systems that cannot be observed in traditional, non-quantum systems.\n",
    "\n",
    "When qubits are entangled, the properties of each qubit can no longer be described independently. Instead, the collective state of the entangled qubits must be described as a whole. This means that the combination of properties of the qubits together is different from the sum of the properties of each qubit individually.\n",
    "\n",
    "For example, let's consider two entangled qubits, qubit A and qubit B. If qubit A is measured and found to be in a certain state, then instantaneously the state of qubit B is also determined, regardless of the physical distance between them. The properties of qubit A and qubit B are strictly correlated, meaning that their states are linked in a way that cannot be explained by classical physics.\n",
    "\n",
    "This correlation is what makes entanglement so fascinating and useful in quantum computing. It allows for the creation of quantum superpositions and enables quantum states to be manipulated and transmitted in ways that would be impossible in classical systems. Entanglement plays a crucial role in various quantum algorithms and protocols, including quantum teleportation, quantum cryptography, and quantum error correction.qubits can form collective states, where properties of individual qubits are strictly correlated, i.e. the sum is different from its parts. A phenomenon that cannot be observed in non-quantum systems.</li>\n",
    "\n",
    "<p style=\"font-size: 18px;\">$\\vert \\Psi \\rangle \\neq \\vert \\Phi_0 \\rangle \\otimes \\vert \\Phi_1 \\rangle$</p>\n",
    "</ol>\n",
    "\n",
    "<div style=\"text-align: center;\">\n",
    "  <img src=\"https://drive.google.com/uc?id=1aZstaqCQEmmGDRCOLmcm7RbWHrjVKIFK\" alt=\"drawing\" width=\"600\"/>\n",
    "</div>\n",
    "<h3 style=\"font-size: 20px;\">What are quantum circuits?</h3>\n",
    "<p style=\"font-size: 18px;\">Quantum circuits are models for quantum computation in which a computation is a sequence of quantum gates. Quantum gates often represent rotations on the Bloch sphere.\n",
    "\n",
    "\n",
    "<h3 style=\"font-size: 20px;\">Executing Quantum Circuit</h3>\n",
    "\n",
    "<p style=\"font-size: 16px;\">In order to exercute quantum circuits, we need to understand the following procedure.First, we define a little helper function to execute the circuits we will define in the next steps.\n",
    "Generally, executing a quantum circuit with qiskit follows this schema:</p>\n",
    "<ol style=\"font-size: 18px;\">\n",
    " <li>Select a backend (there are different simulators and real quantum computers you can choose from) </li>\n",
    " <li>Submit a job to the backend (on a real device you will have to wait now, on a simulator the job will be executed right away) </li>\n",
    " <li>Fetch the result of the computation </li>\n",
    "<li> Extract the target information from the result (counts, state vector, ...)</li>\n",
    "</ol>"
   ]
  },
  {
   "cell_type": "code",
   "execution_count": 2,
   "id": "b7a48767-2e1b-442a-80ae-e35377f0a9ed",
   "metadata": {
    "nbgrader": {
     "grade": false,
     "grade_id": "cell-f07e615f6097463d",
     "locked": true,
     "schema_version": 3,
     "solution": false,
     "task": false
    }
   },
   "outputs": [],
   "source": [
    "from qiskit import Aer\n",
    "from qiskit.visualization import plot_bloch_multivector\n",
    "\n",
    "def exec_and_get_statevector(circuit):\n",
    "    backend = Aer.get_backend('statevector_simulator')\n",
    "    job = backend.run(circuit)\n",
    "    result = job.result()\n",
    "    statevector = result.get_statevector()\n",
    "\n",
    "    return statevector"
   ]
  },
  {
   "cell_type": "markdown",
   "id": "2878624d-2845-45fa-a407-56ff524059b4",
   "metadata": {
    "nbgrader": {
     "grade": false,
     "grade_id": "cell-2e5f2a39f5a60c35",
     "locked": true,
     "schema_version": 3,
     "solution": false,
     "task": false
    }
   },
   "source": [
    "<h3 style=\"font-size: 23px;\"><strong style=\"color: red;\"><span Exercise 2: Quantum Gates and Circuits</strong></h3>\n",
    "<p style=\"font-size: 18px;\">In this exercise you will learn how to build quantum circuits from single qubit gates using Qiskit, execute circuits on a simulator and visualize the resulting state-vector.  Let's take a look at some of the popular quantum gates.</p>"
   ]
  },
  {
   "cell_type": "markdown",
   "id": "352b5f23-a8d1-4d39-a5dc-7cb9f39fe736",
   "metadata": {
    "nbgrader": {
     "grade": false,
     "grade_id": "cell-7f7cc27e6372e310",
     "locked": true,
     "schema_version": 3,
     "solution": false,
     "task": false
    }
   },
   "source": [
    "<p style=\"font-size: 20px;\" ><strong style=\"color: blue;\">Task 2.1: Exploring the X-Gate</strong></p>\n",
    "\n",
    "### X gate \n",
    "<p style=\"font-size: 18px;\">\n",
    "The X-gate is represented by the Pauli-X matrix: \n",
    "\n",
    "$X = \\begin{pmatrix}\n",
    "0 & 1 \\\\\n",
    "1 & 0 \\\\\n",
    "\\end{pmatrix}$ </p>\n",
    "\n",
    "<p style=\"font-size: 18px;\">\n",
    "An X gate equates to a rotation around the X-axis of the Bloch sphere by $\\pi$ radians. It maps $|0\\rangle$ to $|1\\rangle$ and $|1\\rangle$ to $|0\\rangle$. It is the quantum equivalent of the NOT gate for classical computers and is sometimes called a bit-flip.</p>\n",
    "\n",
    "\n",
    "<div style=\"text-align: center;\">\n",
    "  <img src=\"https://drive.google.com/uc?id=16xRK7S3erbjrTZShK8-AMEHUfv6F96SA\" alt=\"drawing\" width=\"500\"/>\n",
    "</div>"
   ]
  },
  {
   "cell_type": "markdown",
   "id": "5765bb0e-5931-45ab-93f6-4cdb22befa9b",
   "metadata": {
    "nbgrader": {
     "grade": false,
     "grade_id": "cell-443bd5bb9901550b",
     "locked": true,
     "schema_version": 3,
     "solution": false,
     "task": false
    }
   },
   "source": [
    "### Instructions\n",
    "\n",
    "<p style=\"font-size: 17px;\"><strong style=\"color: blue;\">YOUR TURN: Task 2.1.1</strong>:<strong> 1. Create a new Quantum Circuit called xgate with 1 qubit</strong> </p>\n"
   ]
  },
  {
   "cell_type": "code",
   "execution_count": 3,
   "id": "adfacaab-c082-4e1a-91f8-158ec187347a",
   "metadata": {
    "nbgrader": {
     "grade": false,
     "grade_id": "cell-2feef5a8bc9bc98c",
     "locked": false,
     "schema_version": 3,
     "solution": true,
     "task": false
    }
   },
   "outputs": [],
   "source": [
    "xgate = QuantumCircuit(1)"
   ]
  },
  {
   "cell_type": "code",
   "execution_count": 4,
   "id": "73200c0d-76af-41a8-8d88-fe8d64099152",
   "metadata": {
    "nbgrader": {
     "grade": true,
     "grade_id": "cell-71111a4e7dd157f9",
     "locked": true,
     "points": 2,
     "schema_version": 3,
     "solution": false,
     "task": false
    }
   },
   "outputs": [
    {
     "name": "stdout",
     "output_type": "stream",
     "text": [
      "Yayy🥳🥳! You scored 1/1 points\n"
     ]
    }
   ],
   "source": [
    "#test\n",
    "assert isinstance(xgate, QuantumCircuit), \"xgate should be a QuantumCircuit\"\n",
    "assert xgate.num_qubits == 1, \"xgate should have 1 qubit\"\n",
    "\n",
    "\n",
    "if isinstance(xgate, QuantumCircuit) and xgate.num_qubits == 1:\n",
    "    points += 1\n",
    "    print(\"Yayy🥳🥳! You scored 1/1 points\")"
   ]
  },
  {
   "cell_type": "markdown",
   "id": "0009a067-1067-4c31-998a-f2290d3cce30",
   "metadata": {
    "nbgrader": {
     "grade": false,
     "grade_id": "cell-4ea5c0d41ad0a9c6",
     "locked": true,
     "schema_version": 3,
     "solution": false,
     "task": false
    }
   },
   "source": [
    "\n",
    "<p style=\"font-size: 17px;\"><strong style=\"color: blue;\">YOUR TURN: Task 2.1.2:</strong><strong> 2. Apply an X-gate on the qubit, this flips a qubit from 0 to 1.</strong></p>\n"
   ]
  },
  {
   "cell_type": "code",
   "execution_count": 5,
   "id": "06801a83-0327-4577-ab01-c0f40326e11c",
   "metadata": {
    "nbgrader": {
     "grade": false,
     "grade_id": "cell-828d3ff3c81f38de",
     "locked": false,
     "schema_version": 3,
     "solution": true,
     "task": false
    }
   },
   "outputs": [
    {
     "data": {
      "text/plain": [
       "<qiskit.circuit.instructionset.InstructionSet at 0x1079bfe80>"
      ]
     },
     "execution_count": 5,
     "metadata": {},
     "output_type": "execute_result"
    }
   ],
   "source": [
    "# Apply X-gate on qubit 0\n",
    "xgate.x(0)"
   ]
  },
  {
   "cell_type": "code",
   "execution_count": 6,
   "id": "7fa4ae1b-dae1-44e1-bc90-68e2c5b2bb23",
   "metadata": {
    "nbgrader": {
     "grade": true,
     "grade_id": "cell-2a381eb10135d0bf",
     "locked": true,
     "points": 2,
     "schema_version": 3,
     "solution": false,
     "task": false
    }
   },
   "outputs": [
    {
     "name": "stdout",
     "output_type": "stream",
     "text": [
      "Yayy🥳🥳! You scored 1/1 points\n"
     ]
    }
   ],
   "source": [
    "#test\n",
    "assert xgate.count_ops()['x'] == 1, \"X gate should be applied to qubit 0\"\n",
    "\n",
    "\n",
    "if xgate.count_ops()['x'] == 1:\n",
    "    points += 1\n",
    "    print(\"Yayy🥳🥳! You scored 1/1 points\")"
   ]
  },
  {
   "cell_type": "markdown",
   "id": "5dabc263-d9f4-491f-93ed-8ff79fe37be4",
   "metadata": {
    "nbgrader": {
     "grade": false,
     "grade_id": "cell-f2d6d48de9759aa6",
     "locked": true,
     "schema_version": 3,
     "solution": false,
     "task": false
    }
   },
   "source": [
    "\n",
    "<p style=\"font-size: 17px;\"><strong style=\"color: blue;\">OUR TURN:</strong><strong>  3. Now we will draw the circuit. </strong>You can see the wire which represents qubit and the x-gate which you applied </p>\n"
   ]
  },
  {
   "cell_type": "code",
   "execution_count": 7,
   "id": "51e7b43e-f090-428d-9bfb-54f7163c3fdc",
   "metadata": {
    "nbgrader": {
     "grade": false,
     "grade_id": "cell-5d592f288d3de8e3",
     "locked": true,
     "schema_version": 3,
     "solution": false,
     "task": false
    }
   },
   "outputs": [
    {
     "data": {
      "image/png": "[encoded data removed]",
      "text/plain": [
       "<Figure size 185.453x117.056 with 1 Axes>"
      ]
     },
     "execution_count": 7,
     "metadata": {},
     "output_type": "execute_result"
    }
   ],
   "source": [
    "xgate.draw(output='mpl')"
   ]
  },
  {
   "cell_type": "markdown",
   "id": "20101dea-cd18-4623-8b1b-b5f6dfc14502",
   "metadata": {
    "nbgrader": {
     "grade": false,
     "grade_id": "cell-5408dcb0d08583fd",
     "locked": true,
     "schema_version": 3,
     "solution": false,
     "task": false
    }
   },
   "source": [
    "\n",
    "<p style=\"font-size: 17px;\"><strong style=\"color: blue;\">OUR TURN:</strong><strong>4. Visualizig on the Bloch Sphere: </strong\n",
    "\n",
    "After qubit initialization the state vector points always to the $\\vert 0 \\rangle$ state, after applying the X-gate, it is flipped to the other $\\vert 1 \\rangle$ state. </p>\n",
    "\n",
    "\n",
    "\n"
   ]
  },
  {
   "cell_type": "code",
   "execution_count": 8,
   "id": "548b1710-21a9-4b2e-9005-7508ca4c001b",
   "metadata": {
    "nbgrader": {
     "grade": false,
     "grade_id": "cell-c9a9974b1518a1c3",
     "locked": true,
     "schema_version": 3,
     "solution": false,
     "task": false
    }
   },
   "outputs": [
    {
     "data": {
      "image/png": "[encoded data removed]",
      "text/plain": [
       "<Figure size 480x480 with 1 Axes>"
      ]
     },
     "execution_count": 8,
     "metadata": {},
     "output_type": "execute_result"
    }
   ],
   "source": [
    "statevector = exec_and_get_statevector(xgate)\n",
    "plot_bloch_multivector(statevector)"
   ]
  },
  {
   "cell_type": "markdown",
   "id": "dcc301b1-87d3-4508-a599-70ef8e5633aa",
   "metadata": {
    "nbgrader": {
     "grade": false,
     "grade_id": "cell-796bc5a2bb2b3fa0",
     "locked": true,
     "schema_version": 3,
     "solution": false,
     "task": false
    }
   },
   "source": [
    "<p style=\"font-size: 20px;\"><strong style=\"color: blue;\">Task 2.2: Exploring the Y-Gate</strong></p>\n",
    "\n",
    "### Y gate \n",
    "\n",
    "\n",
    "<p  style=\"font-size: 18px;\">\n",
    "The Y-gate is represented by the Pauli-Y matrix: \n",
    "\n",
    "$Y = \\begin{pmatrix}\n",
    "0 & -i \\\\\n",
    "i & 0 \\\\\n",
    "\\end{pmatrix}$\n",
    "\n",
    "</p>\n",
    "\n",
    "<p  style=\"font-size: 18px;\">\n",
    "The Y gate corresponds to a rotation around the Y-axis of the Bloch sphere by $\\pi$ radians. It maps $|0\\rangle$ to $i|1\\rangle$ and $|1\\rangle$ to $-i|0\\rangle$. This gate introduces a phase flip and can be considered as a combination of a bit-flip and a phase-flip gate. </p>\n",
    "\n",
    "\n",
    "<div style=\"text-align: center;\">\n",
    "  <img src=\"https://drive.google.com/uc?id=1hMU621RNPPKiTTrDK0Bwhio0v5QKhOYF\" alt=\"drawing\" width=\"500\"/>\n",
    "</div>"
   ]
  },
  {
   "cell_type": "markdown",
   "id": "e7fd2fe4-5b5e-4e1d-8a0a-ff91e2ee2e2d",
   "metadata": {
    "nbgrader": {
     "grade": false,
     "grade_id": "cell-12f2a18515c8784c",
     "locked": true,
     "schema_version": 3,
     "solution": false,
     "task": false
    }
   },
   "source": [
    "### Instructions\n",
    "\n",
    "<p style=\"font-size: 17px;\"><strong style=\"color: blue;\">YOUR TURN: Task 2.2.1</strong>:<strong> 1. Create a new Quantum Circuit called ygate with 1 qubit</strong> </p>\n"
   ]
  },
  {
   "cell_type": "code",
   "execution_count": 9,
   "id": "88270bb3-7534-40a3-9e4b-cd0150ec676f",
   "metadata": {
    "nbgrader": {
     "grade": false,
     "grade_id": "cell-1a52c1d3944e5730",
     "locked": false,
     "schema_version": 3,
     "solution": true,
     "task": false
    }
   },
   "outputs": [],
   "source": [
    "# YOUR CODE HERE\n",
    "ygate = QuantumCircuit(1)"
   ]
  },
  {
   "cell_type": "code",
   "execution_count": 10,
   "id": "cac7a537-e2fe-4acb-b0df-7cfb9a2d1e3e",
   "metadata": {
    "nbgrader": {
     "grade": true,
     "grade_id": "cell-2d64898619993711",
     "locked": true,
     "points": 2,
     "schema_version": 3,
     "solution": false,
     "task": false
    }
   },
   "outputs": [
    {
     "name": "stdout",
     "output_type": "stream",
     "text": [
      "Yayy🥳🥳! You scored 1/1 points\n"
     ]
    }
   ],
   "source": [
    "#test\n",
    "assert isinstance(ygate, QuantumCircuit), \"ygate should be a QuantumCircuit\"\n",
    "assert ygate.num_qubits == 1, \"ygate should have 1 qubit\"\n",
    "\n",
    "\n",
    "if isinstance(ygate, QuantumCircuit) and ygate.num_qubits == 1:\n",
    "    points += 1\n",
    "    print(\"Yayy🥳🥳! You scored 1/1 points\")"
   ]
  },
  {
   "cell_type": "markdown",
   "id": "46866083-ecef-4bfe-a9cc-deb7b98bfe52",
   "metadata": {
    "nbgrader": {
     "grade": false,
     "grade_id": "cell-c07d3f572f46de47",
     "locked": true,
     "schema_version": 3,
     "solution": false,
     "task": false
    }
   },
   "source": [
    "\n",
    "<p style=\"font-size: 17px;\"><strong style=\"color: blue;\">YOUR TURN: Task 2.2.2</strong>:<strong> 2. Apply an Y-Gate on ygate on qubit 0</strong> </p>\n",
    "\n"
   ]
  },
  {
   "cell_type": "code",
   "execution_count": 11,
   "id": "49599424-79c1-4c83-bfa5-f25d73de8a38",
   "metadata": {
    "nbgrader": {
     "grade": false,
     "grade_id": "cell-d0bcbe0b3879e46b",
     "locked": false,
     "schema_version": 3,
     "solution": true,
     "task": false
    }
   },
   "outputs": [
    {
     "data": {
      "text/plain": [
       "<qiskit.circuit.instructionset.InstructionSet at 0x112be3d90>"
      ]
     },
     "execution_count": 11,
     "metadata": {},
     "output_type": "execute_result"
    }
   ],
   "source": [
    "#YOUR CODE HERE\n",
    "ygate.y(0)"
   ]
  },
  {
   "cell_type": "code",
   "execution_count": 12,
   "id": "fc753de4-34ee-4f59-af14-fd90595b8343",
   "metadata": {
    "nbgrader": {
     "grade": true,
     "grade_id": "cell-dc4a2d74840095d7",
     "locked": true,
     "points": 2,
     "schema_version": 3,
     "solution": false,
     "task": false
    }
   },
   "outputs": [
    {
     "name": "stdout",
     "output_type": "stream",
     "text": [
      "Yayy🥳🥳! You scored 1/1 points\n"
     ]
    }
   ],
   "source": [
    "#test\n",
    "assert ygate.count_ops()['y'] == 1, \"Y gate should be applied to qubit 0\"\n",
    "\n",
    "\n",
    "if ygate.count_ops()['y'] == 1:\n",
    "    points += 1\n",
    "    print(\"Yayy🥳🥳! You scored 1/1 points\")"
   ]
  },
  {
   "cell_type": "markdown",
   "id": "4b4c677f-f058-4921-b123-24000fd0ff07",
   "metadata": {
    "nbgrader": {
     "grade": false,
     "grade_id": "cell-e8310de3ca111565",
     "locked": true,
     "schema_version": 3,
     "solution": false,
     "task": false
    }
   },
   "source": [
    "\n",
    "<p style=\"font-size: 17px;\"><strong style=\"color: blue;\">OUR TURN:</strong><strong>  3. Now we will draw the circuit. </strong>You can see the wire which represents qubit and the y-gate which you applied </p>\n"
   ]
  },
  {
   "cell_type": "code",
   "execution_count": 13,
   "id": "9407c6dc-3364-4a94-8c42-bde567c7f571",
   "metadata": {
    "nbgrader": {
     "grade": false,
     "grade_id": "cell-2b965292bfcfcf49",
     "locked": true,
     "schema_version": 3,
     "solution": false,
     "task": false
    }
   },
   "outputs": [
    {
     "data": {
      "image/png": "[encoded data removed]",
      "text/plain": [
       "<Figure size 185.453x117.056 with 1 Axes>"
      ]
     },
     "execution_count": 13,
     "metadata": {},
     "output_type": "execute_result"
    }
   ],
   "source": [
    "ygate.draw(output='mpl')"
   ]
  },
  {
   "cell_type": "markdown",
   "id": "06460c72-49ad-4c61-aa14-490fd77e1a32",
   "metadata": {
    "nbgrader": {
     "grade": false,
     "grade_id": "cell-aadcd2b786a8ea1c",
     "locked": true,
     "schema_version": 3,
     "solution": false,
     "task": false
    }
   },
   "source": [
    "\n",
    "<p style=\"font-size: 17px;\"><strong style=\"color: blue;\">OUR TURN:</strong><strong>4. Visualizig on the Bloch Sphere: </strong\n",
    "\n",
    "After qubit initialization the state vector points always to the $\\vert 0 \\rangle$ state, after applying the Y-gate, it is flipped to the other $\\vert 1 \\rangle$ state. </p>\n",
    "\n",
    "\n",
    "\n"
   ]
  },
  {
   "cell_type": "code",
   "execution_count": 14,
   "id": "70f0c987-e78b-422e-94d2-65a3937a070e",
   "metadata": {
    "nbgrader": {
     "grade": false,
     "grade_id": "cell-5d8983093ca00f34",
     "locked": true,
     "schema_version": 3,
     "solution": false,
     "task": false
    }
   },
   "outputs": [
    {
     "data": {
      "image/png": "[encoded data removed]",
      "text/plain": [
       "<Figure size 480x480 with 1 Axes>"
      ]
     },
     "execution_count": 14,
     "metadata": {},
     "output_type": "execute_result"
    }
   ],
   "source": [
    "statevector = exec_and_get_statevector(ygate)\n",
    "plot_bloch_multivector(statevector)"
   ]
  },
  {
   "cell_type": "markdown",
   "id": "e3caa968-9252-4c49-89b0-5831f7c295f6",
   "metadata": {
    "nbgrader": {
     "grade": false,
     "grade_id": "cell-0b7fe5101f2cb496",
     "locked": true,
     "schema_version": 3,
     "solution": false,
     "task": false
    }
   },
   "source": [
    "<p style=\"font-size: 20px;\"><strong style=\"color: blue;\">Task 2.3: Exploring the H-Gate</strong></p>\n",
    "\n",
    "\n",
    "### Hadamard gate\n",
    "\n",
    "<p  style=\"font-size: 18px;\">\n",
    "A Hadamard gate represents a rotation of $\\pi/2$ about the y-axis.\n",
    "It maps the basis states $|0\\rangle$ to $\\frac{|0\\rangle + |1\\rangle}{\\sqrt{2}} = \\vert + \\rangle$ and $\\vert 1 \\rangle$ to $\\frac{|0\\rangle - |1\\rangle}{\\sqrt{2}} = \\vert - \\rangle$, which means that a measurement will have equal probabilities of being `1` or `0`, creating a 'superposition' of states.\n",
    "\n",
    "$H = \\frac{1}{\\sqrt{2}}\\begin{pmatrix}\n",
    "1 & 1 \\\\\n",
    "1 & -1 \\\\\n",
    "\\end{pmatrix}$ </p>\n",
    "\n",
    "<p>\n",
    "\n",
    "\n",
    "### Instructions\n",
    "\n",
    "<p style=\"font-size: 17px;\"><strong style=\"color: blue;\">YOUR TURN: Task 2.3.1</strong>:<strong> 1. Create a new Quantum Circuit called hgate with 1 qubit</strong> </p>\n",
    "\n",
    "\n"
   ]
  },
  {
   "cell_type": "code",
   "execution_count": 15,
   "id": "d97d6eeb-e778-4c26-888b-b8a6d659405f",
   "metadata": {
    "nbgrader": {
     "grade": false,
     "grade_id": "cell-f18b3cdecce81456",
     "locked": false,
     "schema_version": 3,
     "solution": true,
     "task": false
    }
   },
   "outputs": [],
   "source": [
    "#YOUR CODE\n",
    "hgate = QuantumCircuit(1)"
   ]
  },
  {
   "cell_type": "code",
   "execution_count": 16,
   "id": "85f8dbd4-8bf4-4ddb-ad4d-4766ec0005fb",
   "metadata": {
    "nbgrader": {
     "grade": true,
     "grade_id": "cell-385a39b8a24ec358",
     "locked": true,
     "points": 2,
     "schema_version": 3,
     "solution": false,
     "task": false
    }
   },
   "outputs": [
    {
     "name": "stdout",
     "output_type": "stream",
     "text": [
      "Yayy🥳🥳! You scored 1/1 points\n"
     ]
    }
   ],
   "source": [
    "#Test\n",
    "assert isinstance(hgate, QuantumCircuit), \"hgate should be a QuantumCircuit\"\n",
    "assert hgate.num_qubits == 1, \"hgate should have 1 qubit\"\n",
    "\n",
    "\n",
    "if isinstance(hgate, QuantumCircuit) and hgate.num_qubits == 1:\n",
    "    points += 1\n",
    "    print(\"Yayy🥳🥳! You scored 1/1 points\")"
   ]
  },
  {
   "cell_type": "markdown",
   "id": "483effba-d052-41b1-83e5-c15d9530f1e3",
   "metadata": {
    "nbgrader": {
     "grade": false,
     "grade_id": "cell-bb1ff4a6ac3dba76",
     "locked": true,
     "schema_version": 3,
     "solution": false,
     "task": false
    }
   },
   "source": [
    "\n",
    "<p style=\"font-size: 17px;\"><strong style=\"color: blue;\">YOUR TURN: Task 2.3.2</strong>:<strong>Apply an H-Gate on hgate on qubit 0</strong> </p>\n"
   ]
  },
  {
   "cell_type": "code",
   "execution_count": 17,
   "id": "4acfd683-d7b3-4293-a632-f7f8ff7b36c9",
   "metadata": {
    "nbgrader": {
     "grade": false,
     "grade_id": "cell-15916852e582e879",
     "locked": false,
     "schema_version": 3,
     "solution": true,
     "task": false
    }
   },
   "outputs": [
    {
     "data": {
      "text/plain": [
       "<qiskit.circuit.instructionset.InstructionSet at 0x112d9fc40>"
      ]
     },
     "execution_count": 17,
     "metadata": {},
     "output_type": "execute_result"
    }
   ],
   "source": [
    "# Apply Y-gate on qubit 0\n",
    "hgate.h(0)"
   ]
  },
  {
   "cell_type": "code",
   "execution_count": 18,
   "id": "89e922e4-6671-4b3a-8c89-a2b6c6917b69",
   "metadata": {
    "nbgrader": {
     "grade": true,
     "grade_id": "cell-e0fcddb56ba449ee",
     "locked": true,
     "points": 2,
     "schema_version": 3,
     "solution": false,
     "task": false
    }
   },
   "outputs": [
    {
     "name": "stdout",
     "output_type": "stream",
     "text": [
      "Yayy🥳🥳! You scored 1/1 points\n"
     ]
    }
   ],
   "source": [
    "#test\n",
    "assert hgate.count_ops()['h'] == 1, \"H gate should be applied to qubit 0\"\n",
    "\n",
    "\n",
    "if hgate.count_ops()['h'] == 1:\n",
    "    points += 1\n",
    "    print(\"Yayy🥳🥳! You scored 1/1 points\")"
   ]
  },
  {
   "cell_type": "markdown",
   "id": "5cf74917-956b-4d1a-81cd-516fe3ef4ed4",
   "metadata": {
    "nbgrader": {
     "grade": false,
     "grade_id": "cell-a4245b228b74d119",
     "locked": true,
     "schema_version": 3,
     "solution": false,
     "task": false
    }
   },
   "source": [
    "\n",
    "<p style=\"font-size: 17px;\"><strong style=\"color: blue;\">OUR TURN: </strong><strong>4. Visualizig on the Bloch Sphere: </strong\n",
    "\n",
    "After qubit initialization the state vector points always to the $\\vert 0 \\rangle$ state, after applying the H-gate, it is flipped to the superposition state</p>\n",
    "\n",
    "\n",
    "\n"
   ]
  },
  {
   "cell_type": "code",
   "execution_count": 19,
   "id": "ddd28083-e59a-463e-8ec2-5d9f64b9c201",
   "metadata": {
    "nbgrader": {
     "grade": false,
     "grade_id": "cell-e6ace16cce5895f8",
     "locked": true,
     "schema_version": 3,
     "solution": false,
     "task": false
    }
   },
   "outputs": [
    {
     "data": {
      "image/png": "[encoded data removed]",
      "text/plain": [
       "<Figure size 185.453x117.056 with 1 Axes>"
      ]
     },
     "execution_count": 19,
     "metadata": {},
     "output_type": "execute_result"
    }
   ],
   "source": [
    "hgate.draw(output='mpl')"
   ]
  },
  {
   "cell_type": "markdown",
   "id": "80fa8dc9-9541-4547-b9c7-c9c436e0df2d",
   "metadata": {
    "nbgrader": {
     "grade": false,
     "grade_id": "cell-4efa566603428694",
     "locked": true,
     "schema_version": 3,
     "solution": false,
     "task": false
    }
   },
   "source": [
    "4. Simulate your results in 'statevector_simulator', display it on the bloch sphere\n"
   ]
  },
  {
   "cell_type": "code",
   "execution_count": 20,
   "id": "766ed934-dece-4e17-86dd-6e9f80df5411",
   "metadata": {
    "nbgrader": {
     "grade": false,
     "grade_id": "cell-e6c5f2d00caaff6d",
     "locked": true,
     "schema_version": 3,
     "solution": false,
     "task": false
    }
   },
   "outputs": [
    {
     "data": {
      "image/png": "[encoded data removed]",
      "text/plain": [
       "<Figure size 480x480 with 1 Axes>"
      ]
     },
     "execution_count": 20,
     "metadata": {},
     "output_type": "execute_result"
    }
   ],
   "source": [
    "statevector = exec_and_get_statevector(hgate)\n",
    "plot_bloch_multivector(statevector)"
   ]
  },
  {
   "cell_type": "markdown",
   "id": "9f6f3b5a-5ed3-42f3-842c-322e020ce265",
   "metadata": {
    "nbgrader": {
     "grade": false,
     "grade_id": "cell-1ff75108cd6accbf",
     "locked": true,
     "schema_version": 3,
     "solution": false,
     "task": false
    }
   },
   "source": [
    "<h2 style=\"font-size: 30px;\"><span style=\"font-family: cursive;\"><strong style=\"color: red;\"> Chapter 3: </strong>The Power of Entanglement</span></h2>\n",
    "\n",
    "\n",
    "### Exercise 3: Quantum Entanglement\n",
    "\n",
    "<p style=\"font-size: 20px;\"><strong style=\"color: blue;\">Task 3.1: Exploring Quantum Entanglement</strong></p>\n",
    "\n",
    "<p style=\"font-size: 18px;\"> Understand the concept of entanglement and how to create entangled states.</p>\n",
    "<p style=\"font-size: 18px;\">\n",
    "Entanglement is a fundamental concept in quantum mechanics where two or more particles become connected in such a way that their individual states cannot be described independently. When particles are entangled, measuring the state of one particle instantly determines the state of the other, regardless of the distance between them. This phenomenon has been called \"spooky action at a distance\" by Albert Einstein.</p>\n",
    "<p style=\"font-size: 18px;\">\n",
    "To create entangled states, we can perform specific operations, called entangling gates or entangling operations, on the qubits. The commonly used entangling gate is the Controlled NOT (CNOT) gate. The CNOT gate applies a NOT gate to the target qubit if the control qubit is in the state |1⟩, otherwise, it leaves the target qubit unchanged. </p>\n",
    "\n",
    "### Instructions\n",
    "\n",
    "\n",
    "<div style=\"text-align: center;\">\n",
    "  <img src=\"https://drive.google.com/uc?id=1M6MVpTVE0-Teb5rc9M0H4cgINqthh1TA\" alt=\"drawing\" width=\"500\"/>\n",
    "</div>\n"
   ]
  },
  {
   "cell_type": "markdown",
   "id": "0aa172c4-9716-41a8-997d-baa6dce100e3",
   "metadata": {
    "nbgrader": {
     "grade": false,
     "grade_id": "cell-803e038aa949141c",
     "locked": true,
     "schema_version": 3,
     "solution": false,
     "task": false
    }
   },
   "source": [
    "<p style=\"font-size: 17px;\"><strong style=\"color: blue;\">YOUR TURN: Task 3.1.1</strong>:<strong> 1. Create a new Quantum Circuit called qc with 2 qubits</strong> </p>\n"
   ]
  },
  {
   "cell_type": "code",
   "execution_count": 21,
   "id": "dd1e3f59-2a26-47fb-a56f-5054becb191a",
   "metadata": {
    "nbgrader": {
     "grade": false,
     "grade_id": "cell-2b5f9fcebc8bf74f",
     "locked": false,
     "schema_version": 3,
     "solution": true,
     "task": false
    }
   },
   "outputs": [],
   "source": [
    "# YOUR CODE STARTS HERE\n",
    "qc = QuantumCircuit(2)"
   ]
  },
  {
   "cell_type": "code",
   "execution_count": 22,
   "id": "dabadf9d-d291-4182-9a60-48b117040702",
   "metadata": {
    "nbgrader": {
     "grade": true,
     "grade_id": "cell-29163776d39bb330",
     "locked": true,
     "points": 2,
     "schema_version": 3,
     "solution": false,
     "task": false
    }
   },
   "outputs": [
    {
     "name": "stdout",
     "output_type": "stream",
     "text": [
      "Yayy🥳🥳! You scored 1/1 points\n"
     ]
    }
   ],
   "source": [
    "#Test\n",
    "assert isinstance(qc, QuantumCircuit), \"qc should be a QuantumCircuit\"\n",
    "assert qc.num_qubits == 2, \"qc should have w qubits\"\n",
    "\n",
    "\n",
    "if isinstance(qc, QuantumCircuit) and qc.num_qubits == 2:\n",
    "    points += 1\n",
    "    print(\"Yayy🥳🥳! You scored 1/1 points\")\n",
    "    "
   ]
  },
  {
   "cell_type": "markdown",
   "id": "3ad9347a-809e-4954-94b5-65b624e5bd86",
   "metadata": {
    "nbgrader": {
     "grade": false,
     "grade_id": "cell-86789ec492aa7a05",
     "locked": true,
     "schema_version": 3,
     "solution": false,
     "task": false
    }
   },
   "source": [
    "<p style=\"font-size: 17px;\"><strong style=\"color: blue;\">YOUR TURN: Task 3.1.2</strong>:<strong> 2. Apply quantum gates to entangle the qubits.(H and CNOT)</strong> </p>\n"
   ]
  },
  {
   "cell_type": "code",
   "execution_count": 23,
   "id": "be9b0f2b-637e-4585-9308-fbfc66ac72ef",
   "metadata": {
    "nbgrader": {
     "grade": false,
     "grade_id": "cell-2fa36708a8ddc5ce",
     "locked": false,
     "schema_version": 3,
     "solution": true,
     "task": false
    }
   },
   "outputs": [],
   "source": [
    "def circuit_ent(qc):\n",
    "    qc.h(0)\n",
    "    qc.cx(0, 1)\n"
   ]
  },
  {
   "cell_type": "code",
   "execution_count": 24,
   "id": "570d5f04-df35-433f-bc58-6b87390a0b6a",
   "metadata": {
    "nbgrader": {
     "grade": true,
     "grade_id": "cell-6877c32850d609ee",
     "locked": true,
     "points": 0,
     "schema_version": 3,
     "solution": false,
     "task": false
    }
   },
   "outputs": [
    {
     "name": "stdout",
     "output_type": "stream",
     "text": [
      "Yayy🥳🥳! You scored 1/1 points\n"
     ]
    }
   ],
   "source": [
    "# Test - dont change anything here\n",
    "circuit_ent(qc)\n",
    "backend = Aer.get_backend('statevector_simulator')\n",
    "job = backend.run(qc)\n",
    "result = job.result()\n",
    "outputstate = result.get_statevector(qc, decimals=4)\n",
    "# Define the expected state\n",
    "expected_state = [1./np.sqrt(2.), 0., 0., 1./np.sqrt(2.)]\n",
    "# Check if the outputstate exactly matches the expected_state\n",
    "assert np.allclose([1./np.sqrt(2.), 0., 0., 1./np.sqrt(2.)], outputstate.data)\n",
    "if np.allclose([1./np.sqrt(2.), 0., 0., 1./np.sqrt(2.)], outputstate.data):\n",
    "    points += 1\n",
    "    print(\"Yayy🥳🥳! You scored 1/1 points\")"
   ]
  },
  {
   "cell_type": "markdown",
   "id": "55579fb6-24b9-4359-9b1f-530c84a40762",
   "metadata": {
    "nbgrader": {
     "grade": false,
     "grade_id": "cell-e9b57298ee85e931",
     "locked": true,
     "schema_version": 3,
     "solution": false,
     "task": false
    }
   },
   "source": [
    "<p style=\"font-size: 17px;\"><strong style=\"color: blue;\">OUR TURN: Task 3.1.3</strong>:<strong> 3. Measure the entanlged qubits</strong> </p>\n"
   ]
  },
  {
   "cell_type": "code",
   "execution_count": 25,
   "id": "1562086b-2df7-4ca0-97d2-f4284a51d038",
   "metadata": {
    "nbgrader": {
     "grade": false,
     "grade_id": "cell-fcf06e7470de985c",
     "locked": true,
     "schema_version": 3,
     "solution": false,
     "task": false
    }
   },
   "outputs": [],
   "source": [
    "qc.measure_all()"
   ]
  },
  {
   "cell_type": "markdown",
   "id": "4eba6566-6dce-4581-b473-d08b75263857",
   "metadata": {
    "nbgrader": {
     "grade": false,
     "grade_id": "cell-3260d025d8f4e87f",
     "locked": true,
     "schema_version": 3,
     "solution": false,
     "task": false
    }
   },
   "source": [
    "4. Simulate the quantum circuit and measure the resultant states"
   ]
  },
  {
   "cell_type": "code",
   "execution_count": 26,
   "id": "96ecabdb-a139-42d6-9bee-7d023e880ba9",
   "metadata": {
    "nbgrader": {
     "grade": false,
     "grade_id": "cell-c23e7e205227f60a",
     "locked": true,
     "schema_version": 3,
     "solution": false,
     "task": false
    }
   },
   "outputs": [],
   "source": [
    "simulator = Aer.get_backend('qasm_simulator')\n",
    "job = execute(qc, simulator, shots=1000)\n",
    "result = job.result()\n",
    "counts = result.get_counts(qc)"
   ]
  },
  {
   "cell_type": "code",
   "execution_count": 27,
   "id": "00ee92e7-3198-4067-9a9a-31b9c5b5977d",
   "metadata": {
    "nbgrader": {
     "grade": false,
     "grade_id": "cell-4e11f17436fcb3b2",
     "locked": true,
     "schema_version": 3,
     "solution": false,
     "task": false
    }
   },
   "outputs": [
    {
     "name": "stdout",
     "output_type": "stream",
     "text": [
      "{'11': 517, '00': 483}\n"
     ]
    }
   ],
   "source": [
    "print(counts)"
   ]
  },
  {
   "cell_type": "markdown",
   "id": "aa0c3140-6eaf-4a3d-9af9-2141653f9de8",
   "metadata": {
    "nbgrader": {
     "grade": false,
     "grade_id": "cell-b35b752a21719e16",
     "locked": true,
     "schema_version": 3,
     "solution": false,
     "task": false
    }
   },
   "source": [
    "<p style=\"font-size: 18px;\">\n",
    "The measurement result<strong> {'00': 508, '11': 492} (this changes always due to the probabilistic nature and error rate)</strong> shows that the qubits in the circuit were in an entangled state.\n",
    "When a Hadamard gate (H gate) is applied to qubit 0, it puts the qubit in a superposition state, which means it could be measured as either '0' or '1' with equal probability. However, since the CNOT gate is then applied with qubit 0 as the control and qubit 1 as the target, it entangles the two qubits.\n",
    "In an entangled state, the measurement outcomes of one qubit can depend on the state of the other qubit. In this case, the measurement result of {'00': 508, '11': 492} indicates that the measurement outcomes of qubit 0 and qubit 1 are correlated. </p>"
   ]
  },
  {
   "cell_type": "markdown",
   "id": "6aaaecd3-6612-456b-b1e3-c6d5596149d1",
   "metadata": {
    "nbgrader": {
     "grade": false,
     "grade_id": "cell-bbba4266576ff211",
     "locked": true,
     "schema_version": 3,
     "solution": false,
     "task": false
    }
   },
   "source": [
    "<h2 style=\"font-size: 30px;\"><span style=\"font-family: cursive;\"><strong style=\"color: red;\"> Chapter 4: </strong>Controlled Rotations</span></h2>\n",
    "\n",
    "\n",
    "<p style=\"font-size: 20px;\" ><strong style=\"color: blue;\">Task 4.1: Learn to implement multiple controlled rotations </strong></p>\n",
    "\n",
    "<p style=\"font-size: 18px;\">\n",
    "Controlled gates in quantum computing are gates that perform a specific transformation on a target qubit, but the operation is conditioned on the state of one or more control qubits. If the control qubits are in a certain state, the gate is applied to the target qubit, otherwise, it is not. These gates act as switches, allowing for selective operations based on the state of the control qubits. Controlled gates are important building blocks in quantum algorithms and can be used to perform complex computations by leveraging the correlations between qubits.<br><br>In quantum computing, rotations around different axes of the Bloch sphere are a fundamental concept. The Bloch sphere is a geometric representation of the quantum states of a qubit, where the north pole corresponds to the state |0⟩, the south pole to the state |1⟩, and all other points on the sphere represent superposition states. Rotations around different axes on the Bloch sphere correspond to different quantum gates that can manipulate the state of a qubit. <br><br>\n",
    "Examples of controlled gates: <ul><li>Controlled-NOT (CNOT) Gate</li>\n",
    "    <li>Toffoli Gate</li>\n",
    "    <li> Controlled Phase (CPh) Gate</li>\n",
    "    <li>Controlled Hadamard Gate</li>\n",
    "    <li>Controlled Rotation Gate, Controlled Swap Gate</li></ul> </p>\n",
    "\n",
    "\n",
    "    \n",
    "<div style=\"text-align: center;\">\n",
    "  <img src=\"https://drive.google.com/uc?id=11Kqeu8lK8jISyB_YLE5RSHf5MLLYBl6g\" alt=\"drawing\" width=\"500\"/>\n",
    "</div>\n",
    "\n"
   ]
  },
  {
   "cell_type": "markdown",
   "id": "1f872270-01ad-4664-8d57-e4252602bd8c",
   "metadata": {
    "nbgrader": {
     "grade": false,
     "grade_id": "cell-f0ad42e2ecbeef1c",
     "locked": true,
     "schema_version": 3,
     "solution": false,
     "task": false
    }
   },
   "source": [
    " ### Instructions\n",
    "\n",
    "<p style=\"font-size: 17px;\"><strong style=\"color: blue;\">YOUR TURN: Task 4.1.1</strong>:<strong> 1. Create a circuit named circuit_contr with at least 4 qubits.</strong> </p>\n",
    "<p style=\"font-size: 15px;\">The variable num_qubits have been defined for you. Use it for the circuit defintion</p>\n"
   ]
  },
  {
   "cell_type": "code",
   "execution_count": 28,
   "id": "3a0bdddc-c8a5-4acc-8f12-f1e7c881d580",
   "metadata": {
    "nbgrader": {
     "grade": false,
     "grade_id": "cell-3051917b8a5fa482",
     "locked": true,
     "schema_version": 3,
     "solution": false,
     "task": false
    }
   },
   "outputs": [],
   "source": [
    "num_qubits = 4"
   ]
  },
  {
   "cell_type": "code",
   "execution_count": 29,
   "id": "fb25a2aa-0404-44f2-aaca-c6a38d22ebf4",
   "metadata": {
    "nbgrader": {
     "grade": false,
     "grade_id": "cell-133ab216af06ec3c",
     "locked": false,
     "schema_version": 3,
     "solution": true,
     "task": false
    }
   },
   "outputs": [],
   "source": [
    "#YOUR CODE HERE\n",
    "circuit_contr = QuantumCircuit(num_qubits)"
   ]
  },
  {
   "cell_type": "code",
   "execution_count": 30,
   "id": "d0821920-e259-479a-8920-a8956a88c305",
   "metadata": {
    "nbgrader": {
     "grade": true,
     "grade_id": "cell-343ab344cb2df817",
     "locked": true,
     "points": 2,
     "schema_version": 3,
     "solution": false,
     "task": false
    }
   },
   "outputs": [
    {
     "name": "stdout",
     "output_type": "stream",
     "text": [
      "Yayy🥳🥳! You scored 2/2 points\n"
     ]
    }
   ],
   "source": [
    "#test\n",
    "assert isinstance(circuit_contr, QuantumCircuit), \"circuit_contr should be a QuantumCircuit\"\n",
    "assert circuit_contr.num_qubits == 4, \"qc should have 4 qubits\"\n",
    "\n",
    "\n",
    "if isinstance(circuit_contr, QuantumCircuit) and circuit_contr.num_qubits == 4:\n",
    "    points += 2\n",
    "    print(\"Yayy🥳🥳! You scored 2/2 points\")"
   ]
  },
  {
   "cell_type": "markdown",
   "id": "e5453f28-6c6d-4382-bbed-439998c98943",
   "metadata": {
    "nbgrader": {
     "grade": false,
     "grade_id": "cell-2a1d223d0a2e711d",
     "locked": true,
     "schema_version": 3,
     "solution": false,
     "task": false
    }
   },
   "source": [
    "\n",
    "<p style=\"font-size: 17px;\"><strong style=\"color: blue;\">YOUR TURN: Task 4.1.2</strong>:<strong> Apply Hadamard gates to all qubits. USE A FOR-LOOP and the NUM_QUBITS variable</strong> </p>The Hadamard gate (H) puts the control qubits into a superposition of state |0⟩ and |1⟩, allowing for interference in the controlled rotations. \n"
   ]
  },
  {
   "cell_type": "code",
   "execution_count": 31,
   "id": "9b225ea8-717b-4f94-909a-11ac21aa39eb",
   "metadata": {
    "nbgrader": {
     "grade": false,
     "grade_id": "cell-f2a0493802d93310",
     "locked": false,
     "schema_version": 3,
     "solution": true,
     "task": false
    }
   },
   "outputs": [],
   "source": [
    "#YOUR CODE HERE\n",
    "for i in range(num_qubits):\n",
    "    circuit_contr.h(i)"
   ]
  },
  {
   "cell_type": "code",
   "execution_count": 32,
   "id": "75937a17-9630-40bb-b0dc-26f5e70379a3",
   "metadata": {
    "nbgrader": {
     "grade": true,
     "grade_id": "cell-22db180af9d6c6c8",
     "locked": true,
     "points": 2,
     "schema_version": 3,
     "solution": false,
     "task": false
    }
   },
   "outputs": [
    {
     "name": "stdout",
     "output_type": "stream",
     "text": [
      "Yayy🥳🥳! You scored 1/1 points\n"
     ]
    }
   ],
   "source": [
    "expected_count = num_qubits\n",
    "assert circuit_contr.count_ops()['h'] == expected_count, f\"Hadamard gates should be applied to all qubits\"\n",
    "\n",
    "if circuit_contr.count_ops()['h'] == expected_count:\n",
    "    points += 1\n",
    "    print(\"Yayy🥳🥳! You scored 1/1 points\")"
   ]
  },
  {
   "cell_type": "markdown",
   "id": "a305be09-f51d-4533-98b0-0e79ac8587cc",
   "metadata": {
    "nbgrader": {
     "grade": false,
     "grade_id": "cell-3ce5da93e75c55b9",
     "locked": true,
     "schema_version": 3,
     "solution": false,
     "task": false
    }
   },
   "source": [
    "\n",
    "<p style=\"font-size: 17px;\"><strong style=\"color: blue;\">YOUR TURN: Task 4.1.3</strong>:<strong> Implement crx,cry and crz gate rotations. </strong> </p> \n",
    "\n",
    "With rotation gates you can rotate the qubit by a certain angle. Please note to implement it in the following way:\n",
    "<ol> <li>crx(angle, qubit0,qubit1)</li>\n",
    "<li>cry(angle, qubit0,qubit2) </li>\n",
    "<li>cry(angle, qubit0,qubit3) </li></ol>\n"
   ]
  },
  {
   "cell_type": "code",
   "execution_count": 33,
   "id": "81c300b5-f012-4d7d-b31f-c1adb8d34a0c",
   "metadata": {
    "nbgrader": {
     "grade": false,
     "grade_id": "cell-04265a5472dec595",
     "locked": false,
     "schema_version": 3,
     "solution": true,
     "task": false
    }
   },
   "outputs": [
    {
     "data": {
      "text/plain": [
       "<qiskit.circuit.instructionset.InstructionSet at 0x112ef6110>"
      ]
     },
     "execution_count": 33,
     "metadata": {},
     "output_type": "execute_result"
    }
   ],
   "source": [
    "#YOUR CODE HERE\n",
    "\n",
    "circuit_contr.crx(0.5, 0, 1)  # Controlled rotation gate between qubits 0 and 1\n",
    "circuit_contr.cry(0.2, 0, 2)  # Controlled rotation gate between qubits 0 and 2\n",
    "circuit_contr.crz(0.1, 0, 3)  # Controlled rotation gate between qubits 0 and 3\n"
   ]
  },
  {
   "cell_type": "code",
   "execution_count": 34,
   "id": "ba66cb36-1445-44ff-aed2-106952cd9df5",
   "metadata": {
    "nbgrader": {
     "grade": true,
     "grade_id": "cell-a3f1a9700ac2538a",
     "locked": true,
     "points": 2,
     "schema_version": 3,
     "solution": false,
     "task": false
    }
   },
   "outputs": [
    {
     "name": "stdout",
     "output_type": "stream",
     "text": [
      "Yayy🥳🥳! You scored 3/3 points\n"
     ]
    }
   ],
   "source": [
    "#Test\n",
    "assert circuit_contr.get_instructions('crx') != [], \"please use controlled rotations along all geometrical axis\"\n",
    "assert circuit_contr.get_instructions('cry') != [], \"please use controlled rotations along all geometrical axis\"\n",
    "assert circuit_contr.get_instructions('crz') != [], \"please use controlled rotations along all geometrical axis\"\n",
    "\n",
    "if all([\n",
    "    circuit_contr.get_instructions('crx') != [],\n",
    "    circuit_contr.get_instructions('cry') != [],\n",
    "    circuit_contr.get_instructions('crz') != []\n",
    "]):\n",
    "    points += 3\n",
    "    print(\"Yayy🥳🥳! You scored 3/3 points\")"
   ]
  },
  {
   "cell_type": "markdown",
   "id": "1316eded-8058-4765-9a3f-88d72e2fb187",
   "metadata": {
    "nbgrader": {
     "grade": false,
     "grade_id": "cell-3104dbfc604cbb03",
     "locked": true,
     "schema_version": 3,
     "solution": false,
     "task": false
    }
   },
   "source": [
    "<p style=\"font-size: 17px;\"><strong style=\"color: blue;\">OUR TURN: Task 4.1.4</strong>:<strong> Now we measure the qubits to observe the resulting state </strong> </p> "
   ]
  },
  {
   "cell_type": "code",
   "execution_count": 35,
   "id": "a0082e23-3c70-44ba-a552-52c338c58471",
   "metadata": {
    "nbgrader": {
     "grade": false,
     "grade_id": "cell-88eaa0f76db87264",
     "locked": true,
     "schema_version": 3,
     "solution": false,
     "task": false
    }
   },
   "outputs": [],
   "source": [
    "circuit_contr.measure_all()"
   ]
  },
  {
   "cell_type": "markdown",
   "id": "1ccd1b05-5816-4dd9-8977-1ecd4aa1f495",
   "metadata": {
    "nbgrader": {
     "grade": false,
     "grade_id": "cell-ddc6979b366332df",
     "locked": true,
     "schema_version": 3,
     "solution": false,
     "task": false
    }
   },
   "source": [
    "<p style=\"font-size: 17px;\"><strong style=\"color: blue;\">OUR TURN: Task 4.1.5</strong>:<strong> Now we Execute the circuit and obtain the results </strong> </p> \n"
   ]
  },
  {
   "cell_type": "code",
   "execution_count": 36,
   "id": "c4702527-c8ec-4b61-974d-8db0dcdd593d",
   "metadata": {
    "nbgrader": {
     "grade": false,
     "grade_id": "cell-ef3cb476dad33c35",
     "locked": true,
     "schema_version": 3,
     "solution": false,
     "task": false
    }
   },
   "outputs": [],
   "source": [
    "simulator = Aer.get_backend('qasm_simulator')\n",
    "job = execute(circuit_contr, simulator, shots=1000)\n",
    "result = job.result()\n"
   ]
  },
  {
   "cell_type": "markdown",
   "id": "96c75b76-09bf-40df-b898-d4c4f5c8fb05",
   "metadata": {
    "nbgrader": {
     "grade": false,
     "grade_id": "cell-c922ad4ad89bb87a",
     "locked": true,
     "schema_version": 3,
     "solution": false,
     "task": false
    }
   },
   "source": [
    "<p style=\"font-size: 17px;\"><strong style=\"color: blue;\">OUR TURN: Task 4.1.6</strong>:<strong> Next we get the counts of each measurement outcome</strong> </p> \n"
   ]
  },
  {
   "cell_type": "code",
   "execution_count": 37,
   "id": "4359a2e7-dc83-4975-99f3-5e06ddce5a99",
   "metadata": {
    "nbgrader": {
     "grade": false,
     "grade_id": "cell-80e4778318f88eb1",
     "locked": true,
     "schema_version": 3,
     "solution": false,
     "task": false
    }
   },
   "outputs": [
    {
     "name": "stdout",
     "output_type": "stream",
     "text": [
      "{'1001': 41, '1000': 59, '1011': 43, '1010': 76, '1111': 75, '1101': 70, '0111': 77, '0100': 62, '1100': 70, '1110': 70, '0010': 61, '0000': 66, '0101': 73, '0011': 47, '0001': 43, '0110': 67}\n"
     ]
    }
   ],
   "source": [
    "counts = result.get_counts(circuit_contr)\n",
    "print(counts)"
   ]
  },
  {
   "cell_type": "markdown",
   "id": "dc2293a6-c761-4ba2-bcd0-6e1e59319ec9",
   "metadata": {
    "nbgrader": {
     "grade": false,
     "grade_id": "cell-844ce95234208a10",
     "locked": true,
     "schema_version": 3,
     "solution": false,
     "task": false
    }
   },
   "source": [
    "<p style=\"font-size: 18px;\">These results indicate the number of times each binary state occurred when measuring the qubits. Each binary state is represented by a 4-bit string, with each bit corresponding to the measurement outcome of a specific qubit. The number associated with each state represents the frequency of obtaining that state after performing the quantum circuit and measuring the qubits multiple times.</p>"
   ]
  },
  {
   "cell_type": "markdown",
   "id": "5d84ab74-af0a-4a43-9af8-b398e458b740",
   "metadata": {
    "nbgrader": {
     "grade": false,
     "grade_id": "cell-d256e6082c27067a",
     "locked": true,
     "schema_version": 3,
     "solution": false,
     "task": false
    }
   },
   "source": [
    "\n",
    "<h2 style=\"font-size: 30px;\"><span style=\"font-family: cursive;\"><strong style=\"color: red;\">Congratulations!</strong> We hope you had fun! Run the following cell to see your score</h2></span> \n"
   ]
  },
  {
   "cell_type": "markdown",
   "id": "49d9a407-48c6-4863-8bce-a99d848c7ee6",
   "metadata": {
    "nbgrader": {
     "grade": false,
     "grade_id": "cell-1e456c19dde30e8a",
     "locked": true,
     "schema_version": 3,
     "solution": false,
     "task": false
    }
   },
   "source": [
    "    \n",
    "<div style=\"text-align: center;\">\n",
    "  <img src=\"https://drive.google.com/uc?id=1mGqntA4AWruk_REpZWrgodbWLZY0p60u\" alt=\"drawing\" width=\"500\"/>\n",
    "\n",
    "</div>"
   ]
  },
  {
   "cell_type": "code",
   "execution_count": 38,
   "id": "d7a17547-09cd-44af-867a-d108d6bf7973",
   "metadata": {
    "nbgrader": {
     "grade": false,
     "grade_id": "cell-f5689eb5680b0960",
     "locked": true,
     "schema_version": 3,
     "solution": false,
     "task": false
    }
   },
   "outputs": [
    {
     "name": "stdout",
     "output_type": "stream",
     "text": [
      "Your Score: 14 / 14\n",
      "Congratulations!\n"
     ]
    }
   ],
   "source": [
    "print(\"Your Score: {} / 14\".format(points))\n",
    "print(\"Congratulations!\")"
   ]
  },
  {
   "cell_type": "code",
   "execution_count": null,
   "id": "0eebdae8-8a03-4dfa-b6df-3f05f2fac878",
   "metadata": {},
   "outputs": [],
   "source": []
  },
  {
   "cell_type": "code",
   "execution_count": null,
   "id": "8111c401-e0cd-4218-8199-68ef20133234",
   "metadata": {},
   "outputs": [],
   "source": []
  },
  {
   "cell_type": "code",
   "execution_count": null,
   "id": "ab09a88b-6f87-4aab-878a-469dd2e2caa0",
   "metadata": {},
   "outputs": [],
   "source": []
  },
  {
   "cell_type": "code",
   "execution_count": null,
   "id": "1546b90d-8320-48cb-80a2-6305799ba582",
   "metadata": {},
   "outputs": [],
   "source": []
  },
  {
   "cell_type": "code",
   "execution_count": null,
   "id": "800e80ed-3929-4df5-a13b-0c9af71c02a3",
   "metadata": {},
   "outputs": [],
   "source": []
  },
  {
   "cell_type": "code",
   "execution_count": null,
   "id": "7d4a73c9-3f02-47b9-a1ff-ae0500f5839c",
   "metadata": {},
   "outputs": [],
   "source": []
  },
  {
   "cell_type": "code",
   "execution_count": null,
   "id": "c1053677-736f-459f-bb65-7939850c5240",
   "metadata": {},
   "outputs": [],
   "source": []
  },
  {
   "cell_type": "code",
   "execution_count": null,
   "id": "1e671763-b276-4a84-ba25-cbdc307fc98b",
   "metadata": {},
   "outputs": [],
   "source": []
  },
  {
   "cell_type": "code",
   "execution_count": null,
   "id": "3f9eea65-7d18-4aa2-be42-5852180754ba",
   "metadata": {},
   "outputs": [],
   "source": []
  },
  {
   "cell_type": "code",
   "execution_count": null,
   "id": "2da0d0cf-ca73-4b9e-93c1-186db6b66da4",
   "metadata": {},
   "outputs": [],
   "source": []
  }
 ],
 "metadata": {
  "kernelspec": {
   "display_name": "Python 3 (ipykernel)",
   "language": "python",
   "name": "python3"
  },
  "language_info": {
   "codemirror_mode": {
    "name": "ipython",
    "version": 3
   },
   "file_extension": ".py",
   "mimetype": "text/x-python",
   "name": "python",
   "nbconvert_exporter": "python",
   "pygments_lexer": "ipython3",
   "version": "3.11.5"
  }
 },
 "nbformat": 4,
 "nbformat_minor": 5
}
