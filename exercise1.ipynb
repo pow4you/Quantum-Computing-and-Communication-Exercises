{
 "cells": [
  {
   "attachments": {},
   "cell_type": "markdown",
   "metadata": {},
   "source": [
    "#### 0. Session outline\n",
    "- Exercise 1+2: use a classical optimization algorithm called **Simulated Annealing** to minimize binary-quadratic models (free to use in the d-wave package). => Dry run (20min)\n",
    "\n",
    "-- break -- (10min)\n",
    "\n",
    "- Exercise 3: run an actual problem you formulated on on a **[D-wave quantum computer](https://www.dwavesys.com/solutions-and-products/systems/)**! (20min)"
   ]
  },
  {
   "cell_type": "code",
   "execution_count": 2,
   "metadata": {},
   "outputs": [],
   "source": [
    "# import necessary modules\n",
    "import matplotlib.pyplot as plt\n",
    "import seaborn as sns\n",
    "\n",
    "\n",
    "from dwave.samplers import SimulatedAnnealingSampler, SteepestDescentSolver # classical free optimizer (installed locally on your computer)\n",
    "from dwave.system import DWaveSampler, EmbeddingComposite # commercial quantum optimizer (in the cloud)\n",
    "\n",
    "from dimod import BQM # binary quadratic model object\n",
    "\n",
    "\n",
    "import numpy as np \n",
    "import pandas as pd"
   ]
  },
  {
   "attachments": {},
   "cell_type": "markdown",
   "metadata": {},
   "source": [
    "#### 1. Exercise (10min)\n",
    "\n",
    "- **Optimize an arbitrary binary-quadratic model** \n",
    "    $$ \\vec{x}^* = \\argmin_{\\vec{x}} \\vec{x}Q\\vec{x} $$\n",
    "    **where $Q$ is a random matrix and $\\vec{x}^*$ is the minimum-solution vector you are looking for.**"
   ]
  },
  {
   "cell_type": "code",
   "execution_count": 3,
   "metadata": {},
   "outputs": [],
   "source": [
    "# call the simulated annealing function SimulatedAnnealingSampler(), it will do the optimziation for you\n",
    "optimizer = EmbeddingComposite(DWaveSampler(token = ))"
   ]
  },
  {
   "cell_type": "code",
   "execution_count": 22,
   "metadata": {},
   "outputs": [
    {
     "data": {
      "text/plain": [
       "array([[ 0.06270927, -0.39444435,  0.19719149, -0.0420133 ],\n",
       "       [-0.38873373,  1.01989463,  1.9855786 ,  0.69559545],\n",
       "       [ 0.34156874, -0.7141271 ,  1.3564535 , -0.05980394],\n",
       "       [-0.81771593,  1.6048088 ,  1.7723591 ,  1.19815323]])"
      ]
     },
     "execution_count": 22,
     "metadata": {},
     "output_type": "execute_result"
    }
   ],
   "source": [
    "# generate a random 2x2 numpy matrix with uniform values between [1,2]\n",
    "matrix = np.random.uniform(size=(4,4), low=-1, high=2)\n",
    "matrix"
   ]
  },
  {
   "cell_type": "code",
   "execution_count": 20,
   "metadata": {},
   "outputs": [],
   "source": [
    "# generate a binary-quadratic model using BQM - don't forget to pass the keyword \"BINARY\"\n",
    "bqm = BQM(matrix, \"BINARY\")"
   ]
  },
  {
   "cell_type": "code",
   "execution_count": 21,
   "metadata": {},
   "outputs": [
    {
     "name": "stdout",
     "output_type": "stream",
     "text": [
      "solution: {0: 1, 1: 0}\n",
      "energy: -0.4349523105942006\n"
     ]
    }
   ],
   "source": [
    "# minimze the binary-quadratic model with the optimizer.sample() function and use the seed=42\n",
    "sampleset = optimizer.sample(bqm, seed=28)\n",
    "print('solution:', sampleset.first.sample)\n",
    "print('energy:', sampleset.first.energy)"
   ]
  },
  {
   "attachments": {},
   "cell_type": "markdown",
   "metadata": {},
   "source": [
    "You should have received the trivial solution $\\vec{x}^* = [0,0]$ with an energy value of zero (or something smaller than 1e-15 which is close enough)."
   ]
  },
  {
   "attachments": {},
   "cell_type": "markdown",
   "metadata": {},
   "source": [
    "#### 2. Exercise (10min)\n",
    "\n",
    "The larger the matrix gets, the harder it is to find the minimum solution - this is true for both classical and quantum optimizers. \n",
    "- **Make a `for` loop for the matrices ranging from 10x10 to 200x200 (10,20,30,..,200). The values of the matrix are again uniformly distributed between [1,2]. For each size, run the minimization 100 times with different seeds for the `solver.sample(bqm=bqm, seed=i)` function (where `i` is the index running form 0 to 100).**"
   ]
  },
  {
   "cell_type": "code",
   "execution_count": null,
   "metadata": {},
   "outputs": [],
   "source": [
    "# create the described for loop (executing can take up to 25sec)\n",
    "energies = []\n",
    "matrixsizes = ...\n",
    "for matrix in [np.random.uniform(1, 2, (n,n)) for n in matrixsizes]:\n",
    "    bqm = ...\n",
    "    samplesets = [... for i in range(100)]\n",
    "    energies.append([sampleset.first.energy for sampleset in samplesets])"
   ]
  },
  {
   "cell_type": "code",
   "execution_count": null,
   "metadata": {},
   "outputs": [],
   "source": [
    "# plotting your solutions\n",
    "df_plot = pd.DataFrame(energies).T.melt(var_name='trial', value_name='Energy').merge(pd.DataFrame(list(matrixsizes), columns=['Matrix size']), how='left', left_on='trial', right_index=True)\n",
    "g = sns.boxplot(data=df_plot, x='Matrix size', y='Energy')\n",
    "plt.gcf().set_size_inches(11.7, 8.27)"
   ]
  },
  {
   "attachments": {},
   "cell_type": "markdown",
   "metadata": {},
   "source": [
    "- **Write down your interpretation of the plot.**"
   ]
  },
  {
   "attachments": {},
   "cell_type": "markdown",
   "metadata": {},
   "source": [
    "- **Redo Exercise 2 but this time with the classical optimization algorithm `SteepestDescentSolver()`. Can you make out differences between the results of simulated annealing and this one?** "
   ]
  },
  {
   "cell_type": "code",
   "execution_count": null,
   "metadata": {},
   "outputs": [],
   "source": [
    "..."
   ]
  },
  {
   "attachments": {},
   "cell_type": "markdown",
   "metadata": {},
   "source": [
    "--- WELL DESERVED BREAK (10min) ---"
   ]
  },
  {
   "attachments": {},
   "cell_type": "markdown",
   "metadata": {},
   "source": [
    "#### 3. Exercise (20min)\n",
    "\n",
    "**Problem outset**: Today is friday and you want to go out. Naturally, you want to maximize fun but **minimize spending** money on drinks.\n",
    "\n",
    "You know that the place will offer the following menu of drinks: \n",
    "\n",
    "Price in Euro | Drink | Contribution to score \n",
    "- 5,40 Long Island Ice Tea 70%\n",
    "- 5,40 Mochito 60%\n",
    "- 5,40 Erdbeer Daiquiri 50%\n",
    "- 3,50 Heineken 35%\n",
    "- 4,00 Corona 35%\n",
    "- 4,00 Eristoff Ice 20%\n",
    "- 3,50 Hugo Spritzer 25%\n",
    "- 3,00 Cola -2%\n",
    "- 2,50 Mineralwasser -5%\n",
    "- 0,00 Leitungswasser -3%\n",
    "\n",
    "The listed percentages are contributions per drink to your **\"drinking score\", which must not exceed 100%** (= be reasonably tipsy but avoid a bad hangover).\n",
    "\n",
    "**The solution** will tell you which drinks to should choose in order to save money and reach (but do not exceed) your drinking score!"
   ]
  },
  {
   "attachments": {},
   "cell_type": "markdown",
   "metadata": {},
   "source": [
    "**Your turn:**\n",
    "- **Assign binary variables**, where for example $x_1=1$ means you drink a Long Island Ice Tea ($x_1=0$ means you do not drink a Long Island Ice Tea).\n",
    "- **Define the objective** of the binar model: the objective is to minimize the total sum of euros that you might spend on drinks, e.g.\n",
    "    $$ 5.4 x_1 + 4x_4 + 3.5x_6 + 3x_7 + 2.5 x_8 $$ \n",
    "- **Add the equality constraint**: you do not want to exceed your drinking limit, so the percentages of your chosen drinks should add up to your drinking score, e.g.\n",
    "    $$ 70 x_1 + 35x_4 + 25x_6 - 2x_7 - 2x_8 = 100$$\n",
    "- **Find the minimum solution** using the **quantum computer** and explain!"
   ]
  },
  {
   "cell_type": "code",
   "execution_count": 23,
   "metadata": {},
   "outputs": [
    {
     "data": {
      "text/html": [
       "<div>\n",
       "<style scoped>\n",
       "    .dataframe tbody tr th:only-of-type {\n",
       "        vertical-align: middle;\n",
       "    }\n",
       "\n",
       "    .dataframe tbody tr th {\n",
       "        vertical-align: top;\n",
       "    }\n",
       "\n",
       "    .dataframe thead th {\n",
       "        text-align: right;\n",
       "    }\n",
       "</style>\n",
       "<table border=\"1\" class=\"dataframe\">\n",
       "  <thead>\n",
       "    <tr style=\"text-align: right;\">\n",
       "      <th></th>\n",
       "      <th>Drink</th>\n",
       "      <th>Euro</th>\n",
       "      <th>Score</th>\n",
       "    </tr>\n",
       "  </thead>\n",
       "  <tbody>\n",
       "    <tr>\n",
       "      <th>0</th>\n",
       "      <td>Long Island Ice Tea</td>\n",
       "      <td>5.4</td>\n",
       "      <td>70</td>\n",
       "    </tr>\n",
       "    <tr>\n",
       "      <th>1</th>\n",
       "      <td>Mochito</td>\n",
       "      <td>5.4</td>\n",
       "      <td>60</td>\n",
       "    </tr>\n",
       "    <tr>\n",
       "      <th>2</th>\n",
       "      <td>Erdbeer Daiquiri</td>\n",
       "      <td>5.4</td>\n",
       "      <td>50</td>\n",
       "    </tr>\n",
       "    <tr>\n",
       "      <th>3</th>\n",
       "      <td>Heineken</td>\n",
       "      <td>3.5</td>\n",
       "      <td>35</td>\n",
       "    </tr>\n",
       "    <tr>\n",
       "      <th>4</th>\n",
       "      <td>Corona</td>\n",
       "      <td>4.0</td>\n",
       "      <td>35</td>\n",
       "    </tr>\n",
       "    <tr>\n",
       "      <th>5</th>\n",
       "      <td>Eristoff Ice</td>\n",
       "      <td>4.0</td>\n",
       "      <td>20</td>\n",
       "    </tr>\n",
       "    <tr>\n",
       "      <th>6</th>\n",
       "      <td>Hugo Spritzer</td>\n",
       "      <td>3.5</td>\n",
       "      <td>25</td>\n",
       "    </tr>\n",
       "    <tr>\n",
       "      <th>7</th>\n",
       "      <td>Cola</td>\n",
       "      <td>3.0</td>\n",
       "      <td>-2</td>\n",
       "    </tr>\n",
       "    <tr>\n",
       "      <th>8</th>\n",
       "      <td>Mineralwasser</td>\n",
       "      <td>2.5</td>\n",
       "      <td>-5</td>\n",
       "    </tr>\n",
       "    <tr>\n",
       "      <th>9</th>\n",
       "      <td>Leitungswasser</td>\n",
       "      <td>0.0</td>\n",
       "      <td>-2</td>\n",
       "    </tr>\n",
       "  </tbody>\n",
       "</table>\n",
       "</div>"
      ],
      "text/plain": [
       "                 Drink  Euro  Score\n",
       "0  Long Island Ice Tea   5.4     70\n",
       "1              Mochito   5.4     60\n",
       "2     Erdbeer Daiquiri   5.4     50\n",
       "3             Heineken   3.5     35\n",
       "4               Corona   4.0     35\n",
       "5         Eristoff Ice   4.0     20\n",
       "6        Hugo Spritzer   3.5     25\n",
       "7                 Cola   3.0     -2\n",
       "8        Mineralwasser   2.5     -5\n",
       "9       Leitungswasser   0.0     -2"
      ]
     },
     "execution_count": 23,
     "metadata": {},
     "output_type": "execute_result"
    }
   ],
   "source": [
    "# the menu is provided here as pandas.DataFrame\n",
    "menu = pd.DataFrame({\n",
    "    'Drink': ['Long Island Ice Tea', 'Mochito', 'Erdbeer Daiquiri', 'Heineken', 'Corona', 'Eristoff Ice', 'Hugo Spritzer', 'Cola', 'Mineralwasser', 'Leitungswasser'],\n",
    "    'Euro': [5.4, 5.4, 5.4, 3.5, 4, 4, 3.5, 3, 2.5, 0],\n",
    "    'Score': [70, 60, 50, 35, 35, 20, 25, -2, -5, -2]\n",
    "})\n",
    "menu"
   ]
  },
  {
   "cell_type": "code",
   "execution_count": null,
   "metadata": {},
   "outputs": [],
   "source": [
    "# define a binary quadratic model with BQM(\"BINARY\") and use the menu to add the drinks as variables with the according price from the menu. (check the hint below)\n",
    "bqm = BQM(matrix, \"BINARY\")\n",
    "for drink,euro in zip(menu.Drink, menu.Euro):\n",
    "    bqm.add_variable(variable,cost)"
   ]
  },
  {
   "attachments": {},
   "cell_type": "markdown",
   "metadata": {},
   "source": [
    "HINT: use `bqm.add_variable(variable,cost)`"
   ]
  },
  {
   "cell_type": "code",
   "execution_count": 24,
   "metadata": {},
   "outputs": [
    {
     "ename": "TypeError",
     "evalue": "BinaryQuadraticModel.add_linear_equality_constraint() missing 2 required positional arguments: 'lagrange_multiplier' and 'constant'",
     "output_type": "error",
     "traceback": [
      "\u001b[1;31m---------------------------------------------------------------------------\u001b[0m",
      "\u001b[1;31mTypeError\u001b[0m                                 Traceback (most recent call last)",
      "\u001b[1;32mc:\\Users\\morpl\\git\\Pow.gay\\Quantum Computing and Communication Exercises\\exercise1.ipynb Cell 21\u001b[0m line \u001b[0;36m2\n\u001b[0;32m      <a href='vscode-notebook-cell:/c%3A/Users/morpl/git/Pow.gay/Quantum%20Computing%20and%20Communication%20Exercises/exercise1.ipynb#X26sZmlsZQ%3D%3D?line=0'>1</a>\u001b[0m \u001b[39m# add a linear the drinking score constraint using bqm.add_linear_equality_constraint() (hint below)\u001b[39;00m\n\u001b[1;32m----> <a href='vscode-notebook-cell:/c%3A/Users/morpl/git/Pow.gay/Quantum%20Computing%20and%20Communication%20Exercises/exercise1.ipynb#X26sZmlsZQ%3D%3D?line=1'>2</a>\u001b[0m bqm\u001b[39m.\u001b[39;49madd_linear_equality_constraint([(drink, score) \u001b[39mfor\u001b[39;49;00m drink, score \u001b[39min\u001b[39;49;00m \u001b[39mzip\u001b[39;49m(menu\u001b[39m.\u001b[39;49mDrink, menu\u001b[39m.\u001b[39;49mScore)])\n",
      "\u001b[1;31mTypeError\u001b[0m: BinaryQuadraticModel.add_linear_equality_constraint() missing 2 required positional arguments: 'lagrange_multiplier' and 'constant'"
     ]
    }
   ],
   "source": [
    "# add a linear the drinking score constraint using bqm.add_linear_equality_constraint() (hint below)\n",
    "bqm.add_linear_equality_constraint([(drink, score) for drink, score in zip(menu.Drink, menu.Score)],1,100)"
   ]
  },
  {
   "cell_type": "markdown",
   "metadata": {},
   "source": []
  },
  {
   "attachments": {},
   "cell_type": "markdown",
   "metadata": {},
   "source": [
    "HINT: [check the docs](https://docs.ocean.dwavesys.com/en/stable/docs_dimod/reference/generated/dimod.binary.BinaryQuadraticModel.add_linear_equality_constraint.html)"
   ]
  },
  {
   "cell_type": "code",
   "execution_count": null,
   "metadata": {},
   "outputs": [],
   "source": [
    "# set the optimization to the dwavve quantum computer (you will need a user account which provides an api token, come to me when you reached this section to get it!)\n",
    "#optimizer = EmbeddingComposite(DWaveSampler(token='TOKEN')) \n",
    "optimizer = SteepestDescentSolver()"
   ]
  },
  {
   "cell_type": "code",
   "execution_count": null,
   "metadata": {},
   "outputs": [],
   "source": [
    "sampleset = optimizer.sample(bqm=bqm)\n",
    "solution = sampleset.first.sample\n",
    "solution "
   ]
  },
  {
   "cell_type": "code",
   "execution_count": null,
   "metadata": {},
   "outputs": [],
   "source": [
    "# get the drinks where the value in the dictionary is 1\n",
    "drinks_with_value_1 = [drink for drink, value in solution.items() if value == 1]\n",
    "\n",
    "# filter the DataFrame using isin\n",
    "result = menu[menu.Drink.isin(drinks_with_value_1)]"
   ]
  },
  {
   "cell_type": "code",
   "execution_count": null,
   "metadata": {},
   "outputs": [],
   "source": [
    "# display your dinks of choice\n",
    "result.Drink"
   ]
  },
  {
   "cell_type": "code",
   "execution_count": null,
   "metadata": {},
   "outputs": [],
   "source": [
    "# get your spending and score\n",
    "result.sum()[1:]"
   ]
  },
  {
   "attachments": {},
   "cell_type": "markdown",
   "metadata": {},
   "source": [
    "- **optional: Redo the last exercice but this time with the classical optimization algorithm `SteepestDescentSolver()`. Can you make out differences between the results of the quantum annealer and the latter?** "
   ]
  },
  {
   "cell_type": "code",
   "execution_count": null,
   "metadata": {},
   "outputs": [],
   "source": [
    "..."
   ]
  },
  {
   "attachments": {},
   "cell_type": "markdown",
   "metadata": {},
   "source": [
    "#### Homework Assignemnt P-set 4\n",
    "\n",
    "Answer the following questions (in written form)."
   ]
  },
  {
   "attachments": {},
   "cell_type": "markdown",
   "metadata": {},
   "source": [
    "**(10P) In the annealing process the energy state of the quantum chip ...**\n",
    "1. should remain in the minimum eigenstate (groundstate)\n",
    "2. should transform from a higher energy state (excited state) to the groundstate.\n",
    "3. should tranform from the groundstate to an excited state.\n",
    "\n",
    "**Make a cross (x) next to the correct answer above.**"
   ]
  },
  {
   "attachments": {},
   "cell_type": "markdown",
   "metadata": {},
   "source": [
    "**(30P) What is the minimum of the following binary quadratic model E?** \n",
    "$$ E(x_1,x_2) = \\begin{pmatrix}x_1 & x_2\\end{pmatrix} \\begin{pmatrix}1 & 2 \\\\ 0 & 1\\end{pmatrix} \\begin{pmatrix}x_1 \\\\ x_2\\end{pmatrix} $$"
   ]
  },
  {
   "attachments": {},
   "cell_type": "markdown",
   "metadata": {},
   "source": [
    "Your answer: ..."
   ]
  },
  {
   "attachments": {},
   "cell_type": "markdown",
   "metadata": {},
   "source": [
    "**(30P) You are given a binary quadratic problem to minimize $\\min \\vec{x}^TQ\\vec{x}$, where $Q$ has values $\\ge 0$. How can you change the values of the $Q$ matrix such that the minimum solution is NOT the trivial solution and why?**"
   ]
  },
  {
   "attachments": {},
   "cell_type": "markdown",
   "metadata": {},
   "source": [
    "Your answer: ..."
   ]
  },
  {
   "attachments": {},
   "cell_type": "markdown",
   "metadata": {},
   "source": [
    "**(30P) Think about Exercise 3 again: Give an equality constraint for all the variables (drinks), which makes sure, that you will not drink more than three drinks containing alcohol.**"
   ]
  },
  {
   "attachments": {},
   "cell_type": "markdown",
   "metadata": {},
   "source": [
    "Your answer: ..."
   ]
  }
 ],
 "metadata": {
  "kernelspec": {
   "display_name": "workshopaannealing",
   "language": "python",
   "name": "python3"
  },
  "language_info": {
   "codemirror_mode": {
    "name": "ipython",
    "version": 3
   },
   "file_extension": ".py",
   "mimetype": "text/x-python",
   "name": "python",
   "nbconvert_exporter": "python",
   "pygments_lexer": "ipython3",
   "version": "3.11.5"
  },
  "orig_nbformat": 4
 },
 "nbformat": 4,
 "nbformat_minor": 2
}
